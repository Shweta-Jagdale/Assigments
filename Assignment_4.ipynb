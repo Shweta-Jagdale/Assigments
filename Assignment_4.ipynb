{
  "nbformat": 4,
  "nbformat_minor": 0,
  "metadata": {
    "colab": {
      "provenance": [],
      "collapsed_sections": []
    },
    "kernelspec": {
      "name": "python3",
      "display_name": "Python 3"
    },
    "language_info": {
      "name": "python"
    }
  },
  "cells": [
    {
      "cell_type": "code",
      "execution_count": null,
      "metadata": {
        "colab": {
          "base_uri": "https://localhost:8080/"
        },
        "id": "c6rq544JBOS_",
        "outputId": "13b0dc82-cb69-4c55-aff1-5aafb682b96d"
      },
      "outputs": [
        {
          "output_type": "stream",
          "name": "stdout",
          "text": [
            "largest number is: 525\n"
          ]
        }
      ],
      "source": [
        "#Q1. Find the largest number from the given list, use for loop.\n",
        "numbers = [12, 75, 150, 180, 145, 525, 50]\n",
        "\n",
        "maxi = numbers[0]\n",
        "\n",
        "for i in numbers:\n",
        "  if i > maxi:\n",
        "    maxi = i\n",
        "\n",
        "print(\"largest number is:\", maxi)\n",
        "      \n"
      ]
    },
    {
      "cell_type": "code",
      "source": [
        "#2.Print all the even number between (1, 12).\n",
        "A=[1,2,3,4,5,6,7,8,9,10,11,12]\n",
        "for i in A:\n",
        "  if i%2 == 0:\n",
        "     print( i)\n",
        "     "
      ],
      "metadata": {
        "colab": {
          "base_uri": "https://localhost:8080/"
        },
        "id": "YpFMqjgVFMAr",
        "outputId": "bc3efde4-fc72-440e-ab30-2e1afc388476"
      },
      "execution_count": null,
      "outputs": [
        {
          "output_type": "stream",
          "name": "stdout",
          "text": [
            "2\n",
            "4\n",
            "6\n",
            "8\n",
            "10\n",
            "12\n"
          ]
        }
      ]
    },
    {
      "cell_type": "code",
      "source": [
        "#3.Calculate the sum of all numbers from 1 to a given number\n",
        "\n",
        "number=int(input(\"Enter the number \"))\n",
        "\n",
        "for i in range (1, number+1):\n",
        "    print(sum(i))\n"
      ],
      "metadata": {
        "colab": {
          "base_uri": "https://localhost:8080/",
          "height": 217
        },
        "id": "_1AgVCbeF5qf",
        "outputId": "22e6b15d-e317-4694-ac8b-074560595089"
      },
      "execution_count": null,
      "outputs": [
        {
          "name": "stdout",
          "output_type": "stream",
          "text": [
            "Enter the number 2\n"
          ]
        },
        {
          "output_type": "error",
          "ename": "TypeError",
          "evalue": "ignored",
          "traceback": [
            "\u001b[0;31m---------------------------------------------------------------------------\u001b[0m",
            "\u001b[0;31mTypeError\u001b[0m                                 Traceback (most recent call last)",
            "\u001b[0;32m<ipython-input-37-ce65cc73fb6f>\u001b[0m in \u001b[0;36m<module>\u001b[0;34m\u001b[0m\n\u001b[1;32m      4\u001b[0m \u001b[0;34m\u001b[0m\u001b[0m\n\u001b[1;32m      5\u001b[0m \u001b[0;32mfor\u001b[0m \u001b[0mi\u001b[0m \u001b[0;32min\u001b[0m \u001b[0mrange\u001b[0m \u001b[0;34m(\u001b[0m\u001b[0;36m1\u001b[0m\u001b[0;34m,\u001b[0m \u001b[0mnumber\u001b[0m\u001b[0;34m+\u001b[0m\u001b[0;36m1\u001b[0m\u001b[0;34m)\u001b[0m\u001b[0;34m:\u001b[0m\u001b[0;34m\u001b[0m\u001b[0;34m\u001b[0m\u001b[0m\n\u001b[0;32m----> 6\u001b[0;31m     \u001b[0mprint\u001b[0m\u001b[0;34m(\u001b[0m\u001b[0msum\u001b[0m\u001b[0;34m(\u001b[0m\u001b[0mi\u001b[0m\u001b[0;34m)\u001b[0m\u001b[0;34m)\u001b[0m\u001b[0;34m\u001b[0m\u001b[0;34m\u001b[0m\u001b[0m\n\u001b[0m",
            "\u001b[0;31mTypeError\u001b[0m: 'int' object is not iterable"
          ]
        }
      ]
    },
    {
      "cell_type": "code",
      "source": [
        "#Q4. Write a program to display only those numbers from a list that satisfy the following conditions\n",
        "\n",
        "#The number must be divisible by five\n",
        "\n",
        "#If the number is greater than 150, then skip it and move to the next number\n",
        "\n",
        "#If the number is greater than 500, then stop the loop"
      ],
      "metadata": {
        "id": "IL-9psBeHRk8"
      },
      "execution_count": null,
      "outputs": []
    },
    {
      "cell_type": "code",
      "source": [
        "# Given:\n",
        "\n",
        "numbers = [12, 75, 150, 180, 145, 525, 50]\n"
      ],
      "metadata": {
        "id": "sbBE8gIaSxYn"
      },
      "execution_count": null,
      "outputs": []
    },
    {
      "cell_type": "code",
      "source": [
        "#1 #The number must be divisible by five\n",
        "numbers = [12, 75, 150, 180, 145, 525, 50]\n",
        "for i in numbers:\n",
        "   if i%5 ==0:\n",
        "       print(i)\n",
        "\n",
        "\n"
      ],
      "metadata": {
        "colab": {
          "base_uri": "https://localhost:8080/"
        },
        "id": "RygpOjZZT7LK",
        "outputId": "04fde7a4-deb7-4eaf-d209-341fbb2a1fed"
      },
      "execution_count": null,
      "outputs": [
        {
          "output_type": "stream",
          "name": "stdout",
          "text": [
            "75\n",
            "150\n",
            "180\n",
            "145\n",
            "525\n",
            "50\n"
          ]
        }
      ]
    },
    {
      "cell_type": "code",
      "source": [
        "#If the number is greater than 150, then skip it and move to the next number\n",
        "for i in numbers:\n",
        "  if i<150:\n",
        "    print(i)"
      ],
      "metadata": {
        "colab": {
          "base_uri": "https://localhost:8080/"
        },
        "id": "buGzC1sfUyaX",
        "outputId": "39d7cb8b-b256-4f88-e947-a3262f45ee13"
      },
      "execution_count": null,
      "outputs": [
        {
          "output_type": "stream",
          "name": "stdout",
          "text": [
            "12\n",
            "75\n",
            "145\n",
            "50\n"
          ]
        }
      ]
    },
    {
      "cell_type": "code",
      "source": [
        "#If the number is greater than 500, then stop the loop\n",
        "for i in numbers:\n",
        "  if i==500:\n",
        "    end(numbers)\n",
        "    print(i)"
      ],
      "metadata": {
        "id": "_F4Fz7gyVbLt"
      },
      "execution_count": null,
      "outputs": []
    },
    {
      "cell_type": "code",
      "source": [],
      "metadata": {
        "id": "kqizVGdXWQl9"
      },
      "execution_count": null,
      "outputs": []
    }
  ]
}