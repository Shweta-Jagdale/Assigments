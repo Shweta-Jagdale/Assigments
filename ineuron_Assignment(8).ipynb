{
 "cells": [
  {
   "cell_type": "markdown",
   "id": "96489e84",
   "metadata": {},
   "source": [
    "1. Is the Python Standard Library included with PyInputPlus?\n",
    "ANS:pyInputPlus is not a part of Python Standard Library."
   ]
  },
  {
   "cell_type": "markdown",
   "id": "468777e6",
   "metadata": {},
   "source": [
    "2. Why is PyInputPlus commonly imported with import pyinputplus as pypi?\n",
    "ANS:You can import the module with import pyinputplus as pyip so that you can enter a shorter name when calling the module's       functions. "
   ]
  },
  {
   "cell_type": "markdown",
   "id": "8ea70b62",
   "metadata": {},
   "source": [
    "3. How do you distinguish between inputInt() and inputFloat()?\n",
    "ANS:inputInt() accepts an integer value. This also takes additional parameters 'min', 'max', 'greaterThan' and 'lessThan' for      bounds. Returns an int. inputFloat() accepts a floating-point numeric value."
   ]
  },
  {
   "cell_type": "markdown",
   "id": "704a0ee3",
   "metadata": {},
   "source": [
    "4. Using PyInputPlus, how do you ensure that the user enters a whole number between 0 and 99?\n",
    "Ans. In the inputint function we can set the min = 0 and max =99 to ensure user enters number between 0 and 99"
   ]
  },
  {
   "cell_type": "code",
   "execution_count": null,
   "id": "fc3b6c11",
   "metadata": {},
   "outputs": [],
   "source": [
    "pyip.inputInt(min = 0, max =99)"
   ]
  },
  {
   "cell_type": "markdown",
   "id": "7b877b7c",
   "metadata": {},
   "source": [
    "5. What is transferred to the keyword arguments allowRegexes and blockRegexes?\n",
    "ANS:We can also use regular expressions to specify whether an input is allowed or not. The allowRegexes and blockRegexes\n",
    "    keyword arguments take a list of regular expression strings to determine what the PyInputPlus function will accept or           reject as valid input.\n",
    "\n"
   ]
  },
  {
   "cell_type": "markdown",
   "id": "7c297a46",
   "metadata": {},
   "source": [
    "6. If a blank input is entered three times, what does inputStr(limit=3) do?\n",
    "ANS:It will throw RetryLimitException exception.\n"
   ]
  },
  {
   "cell_type": "markdown",
   "id": "84667fca",
   "metadata": {},
   "source": [
    "7. If blank input is entered three times, what does inputStr(limit=3, default='hello') do?\n",
    "ANS:The function returns the value 'hello'"
   ]
  }
 ],
 "metadata": {
  "kernelspec": {
   "display_name": "Python 3 (ipykernel)",
   "language": "python",
   "name": "python3"
  },
  "language_info": {
   "codemirror_mode": {
    "name": "ipython",
    "version": 3
   },
   "file_extension": ".py",
   "mimetype": "text/x-python",
   "name": "python",
   "nbconvert_exporter": "python",
   "pygments_lexer": "ipython3",
   "version": "3.9.7"
  }
 },
 "nbformat": 4,
 "nbformat_minor": 5
}
