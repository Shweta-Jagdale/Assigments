{
 "cells": [
  {
   "cell_type": "markdown",
   "id": "abc4dd52",
   "metadata": {},
   "source": [
    "1. To what does a relative path refer?\n",
    "ANS:A relative path in Python is a path that describes the location of a directory relative to the entry point where you run       the Python script."
   ]
  },
  {
   "cell_type": "markdown",
   "id": "2b609f5d",
   "metadata": {},
   "source": [
    "2. What does an absolute path start with your operating system?\n",
    "ANS:Absolute paths start with the root folder, such as / or C:\\."
   ]
  },
  {
   "cell_type": "markdown",
   "id": "a128efdf",
   "metadata": {},
   "source": [
    "3. What do the functions os.getcwd() and os.chdir() do?\n",
    "ANS:getcwd(): CWD stands for Current Working Directory. This function allows you to see what your current working directory is.\n",
    "    chdir(\"path-to-dir\"): Short for CHange DIRectory, this function allows you to set the current working directory to a path       of your choice.\n",
    "    "
   ]
  },
  {
   "cell_type": "markdown",
   "id": "63477e2f",
   "metadata": {},
   "source": [
    "4. What are the . and .. folders?\n",
    "ANS:What are the . and .. folders?\n"
   ]
  },
  {
   "cell_type": "markdown",
   "id": "891d807f",
   "metadata": {},
   "source": [
    "5. In C:\\bacon\\eggs\\spam.txt, which part is the dir name, and which part is the base name?\n",
    "ANS:C:\\bacon\\eggs is the dir name, while spam. txt is the base name."
   ]
  },
  {
   "cell_type": "markdown",
   "id": "f71badb7",
   "metadata": {},
   "source": [
    "6. What are the three “mode” arguments that can be passed to the open() function?\n",
    "ANS:The string 'r' for read mode, 'w' for write mode, and 'a' for append mode"
   ]
  },
  {
   "cell_type": "markdown",
   "id": "b654da5c",
   "metadata": {},
   "source": [
    "7. What happens if an existing file is opened in write mode?\n",
    "ANS:An existing file opened in write mode is erased and completely overwritten."
   ]
  },
  {
   "cell_type": "markdown",
   "id": "e56b1d3b",
   "metadata": {},
   "source": [
    "8. How do you tell the difference between read() and readlines()?\n",
    "ANS:The read() method returns the file's entire contents as a single string value. The readlines() method returns a list of strings, where each string is a line from the file's contents."
   ]
  },
  {
   "cell_type": "markdown",
   "id": "2548bf85",
   "metadata": {},
   "source": [
    "9. What data structure does a shelf value resemble?\n",
    "ANS:A shelf value resembles a dictionary value; it has keys and values, along with keys() and values() methods that work           similarly to the dictionary methods of the same names."
   ]
  },
  {
   "cell_type": "code",
   "execution_count": null,
   "id": "8049bb29",
   "metadata": {},
   "outputs": [],
   "source": []
  },
  {
   "cell_type": "code",
   "execution_count": null,
   "id": "c75d8202",
   "metadata": {},
   "outputs": [],
   "source": []
  }
 ],
 "metadata": {
  "kernelspec": {
   "display_name": "Python 3 (ipykernel)",
   "language": "python",
   "name": "python3"
  },
  "language_info": {
   "codemirror_mode": {
    "name": "ipython",
    "version": 3
   },
   "file_extension": ".py",
   "mimetype": "text/x-python",
   "name": "python",
   "nbconvert_exporter": "python",
   "pygments_lexer": "ipython3",
   "version": "3.9.7"
  }
 },
 "nbformat": 4,
 "nbformat_minor": 5
}
