{
 "cells": [
  {
   "cell_type": "markdown",
   "id": "ec148df8",
   "metadata": {},
   "source": [
    "1. What is the name of the feature responsible for generating Regex objects?\n",
    "ANS: re.compile()\n"
   ]
  },
  {
   "cell_type": "markdown",
   "id": "10924182",
   "metadata": {},
   "source": [
    "2. Why do raw strings often appear in Regex objects?\n",
    "ANS: Raw strings are used so that backslashes do not have to be escaped."
   ]
  },
  {
   "cell_type": "markdown",
   "id": "28a12d09",
   "metadata": {},
   "source": [
    "3. What is the return value of the search() method?\n",
    "ANS:Match objects"
   ]
  },
  {
   "cell_type": "markdown",
   "id": "9a2ae187",
   "metadata": {},
   "source": [
    "4. From a Match item, how do you get the actual strings that match the pattern?\n",
    "ANS: The group() method returns strings of the matched text."
   ]
  },
  {
   "cell_type": "markdown",
   "id": "e1531e8d",
   "metadata": {},
   "source": [
    "5. In the regex which created from the r'(\\d\\d\\d)-(\\d\\d\\d-\\d\\d\\d\\d)', what does group zero cover? Group 2? Group 1?\n",
    "ANS:Group 0 is the entire match, group 1 covers the first set of parentheses, and group 2 covers the second set of parentheses."
   ]
  },
  {
   "cell_type": "markdown",
   "id": "f35a4a6d",
   "metadata": {},
   "source": [
    "6. In standard expression syntax, parentheses and intervals have distinct meanings. How can you tell a regex that you want it to fit real parentheses and periods?\n",
    "ANS: Periods and parentheses can be escaped with a backslash: \\., \\(, and \\)."
   ]
  },
  {
   "cell_type": "markdown",
   "id": "e390efd9",
   "metadata": {},
   "source": [
    "7. The findall() method returns a string list or a list of string tuples. What causes it to return one of the two options?\n",
    "ANS: If the regex has no groups, a list of strings is returned. If the regex has groups, a list of tuples of strings is              returned."
   ]
  },
  {
   "cell_type": "markdown",
   "id": "ecfabf97",
   "metadata": {},
   "source": [
    "8. In standard expressions, what does the | character mean?\n",
    "ANS: The | character signifies matching \"either, or\" between two groups.What two things does the ? character signify in regular      expressions? The ? character can eit"
   ]
  },
  {
   "cell_type": "raw",
   "id": "357b7377",
   "metadata": {},
   "source": [
    "9. In regular expressions, what does the character stand for?\n",
    "ANS: The ? character can either mean \"match zero or one of the preceding group\" or be used to signify nongreedy matching."
   ]
  },
  {
   "cell_type": "markdown",
   "id": "9b8654b6",
   "metadata": {},
   "source": [
    "10.In regular expressions, what is the difference between the + and * characters?\n",
    "ANS: The + matches one or more. The * matches zero or more."
   ]
  },
  {
   "cell_type": "markdown",
   "id": "420e718c",
   "metadata": {},
   "source": [
    "11. What is the difference between {4} and {4,5} in regular expression?\n",
    "ANS:{4} means exactly 4 times while {4,5} means fron 4 to 5 and both 4 and 5 are inclusive."
   ]
  },
  {
   "cell_type": "markdown",
   "id": "07fd02e3",
   "metadata": {},
   "source": [
    "12. What do you mean by the \\d, \\w, and \\s shorthand character classes signify in regular expressions?\n",
    "ANS:The \\d, \\w, and \\s shorthand character classes match a single character that is a digit, word, or space character,         respectively.\n"
   ]
  },
  {
   "cell_type": "markdown",
   "id": "7958048b",
   "metadata": {},
   "source": [
    "13. What do means by \\D, \\W, and \\S shorthand character classes signify in regular expressions?\n",
    "ANS: The \\D, \\W, and \\S shorthand character classes match a single character that is not a digit, word, or space character, respectively.\n"
   ]
  },
  {
   "cell_type": "markdown",
   "id": "50348aaf",
   "metadata": {},
   "source": [
    "14. What is the difference between .*? and .*?\n",
    "ANS: *? is non-greedy. * will match nothing, but then will try to match extra characters until it matches 1 , eventually            matching 101 ."
   ]
  },
  {
   "cell_type": "markdown",
   "id": "3f3c40ca",
   "metadata": {},
   "source": [
    "15. What is the syntax for matching both numbers and lowercase letters with a character class?\n",
    "ANS:By including ranges of letters or numbers by using a hyphen. For example, the character class [a-zA-Z0-9] will match all       lowercase letters, uppercase letters, and numbers."
   ]
  },
  {
   "cell_type": "markdown",
   "id": "6532a832",
   "metadata": {},
   "source": [
    "16. What is the procedure for making a normal expression in regax case insensitive?\n",
    "ANS: re.IGORECASE"
   ]
  },
  {
   "cell_type": "markdown",
   "id": "cbb4f894",
   "metadata": {},
   "source": [
    "17. What does the . character normally match? What does it match if re.DOTALL is passed as 2nd argument in re.compile()?\n",
    "ANS:character normally matches any character except the newline character. If re. DOTALL is passed as the second argument to       re. compile(), then the dot will also match newline characters."
   ]
  },
  {
   "cell_type": "markdown",
   "id": "84aedbfb",
   "metadata": {},
   "source": [
    "18. If numReg = re.compile(r'\\d+'), what will numRegex.sub('X', '11 drummers, 10 pipers, five rings, 4 hen') return?\n",
    "ANS:X drummers, X pipers, five rings, X hens"
   ]
  },
  {
   "cell_type": "markdown",
   "id": "b9cbb203",
   "metadata": {},
   "source": [
    "19. What does passing re.VERBOSE as the 2nd argument to re.compile() allow to do?\n",
    "ANS:To ignore whitespace and comments inside the regular expression string."
   ]
  },
  {
   "cell_type": "markdown",
   "id": "1eb789aa",
   "metadata": {},
   "source": [
    "20. How would you write a regex that match a number with comma for every three digits? It must match the given following:\n",
    "'42'\n",
    "'1,234'\n",
    "'6,368,745'\n",
    "but not the following:\n",
    "'12,34,567' (which has only two digits between the commas)\n",
    "'1234' (which lacks commas)\n",
    "\n",
    "ANS:numCommas = re.compile(r'(^\\d{1,3})(,\\d{3})*$') numCommas.search('12,34,567').group()"
   ]
  },
  {
   "cell_type": "markdown",
   "id": "b60f7055",
   "metadata": {},
   "source": [
    "21. How would you write a regex that matches the full name of someone whose last name is Watanabe? You can assume that the first name that comes before it will always be one word that begins with a capital letter. The regex must match the following:\n",
    "'Haruto Watanabe'\n",
    "'Alice Watanabe'\n",
    "'RoboCop Watanabe'\n",
    "but not the following:\n",
    "'haruto Watanabe' (where the first name is not capitalized)\n",
    "'Mr. Watanabe' (where the preceding word has a nonletter character)\n",
    "'Watanabe' (which has no first name)\n",
    "'Haruto watanabe' (where Watanabe is not capitalized)\n",
    "\n",
    "ANS: fullName = re.compile(r'[A-Z]\\w [A-Z]\\w') mo = fullName.findall('Satoshi Nakamoto, satoshi Nakamoto, Alice Nakamoto, Nakamoto, Satoshi nakamoto, Robocop Nakamoto') mo.group()"
   ]
  },
  {
   "cell_type": "markdown",
   "id": "4f7f72d5",
   "metadata": {},
   "source": [
    "22. How would you write a regex that matches a sentence where the first word is either Alice, Bob, or Carol; the second word is either eats, pets, or throws; the third word is apples, cats, or baseballs; and the sentence ends with a period? This regex should be case-insensitive. It must match the following:\n",
    "'Alice eats apples.'\n",
    "'Bob pets cats.'\n",
    "'Carol throws baseballs.'\n",
    "'Alice throws Apples.'\n",
    "'BOB EATS CATS.'\n",
    "but not the following:\n",
    "'RoboCop eats apples.'\n",
    "'ALICE THROWS FOOTBALLS.'\n",
    "'Carol eats 7 cats.'\n",
    "\n",
    "ANS:fullName = re.compile(r'[A-Z]\\w [A-Z]\\w') mo = fullName.findall('Satoshi Nakamoto, satoshi Nakamoto, Alice Nakamoto, Nakamoto, Satoshi nakamoto, Robocop Nakamoto') mo.group()\n",
    "\n"
   ]
  }
 ],
 "metadata": {
  "kernelspec": {
   "display_name": "Python 3 (ipykernel)",
   "language": "python",
   "name": "python3"
  },
  "language_info": {
   "codemirror_mode": {
    "name": "ipython",
    "version": 3
   },
   "file_extension": ".py",
   "mimetype": "text/x-python",
   "name": "python",
   "nbconvert_exporter": "python",
   "pygments_lexer": "ipython3",
   "version": "3.9.7"
  }
 },
 "nbformat": 4,
 "nbformat_minor": 5
}
