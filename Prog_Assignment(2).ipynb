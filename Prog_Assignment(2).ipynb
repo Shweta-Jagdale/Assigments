{
 "cells": [
  {
   "cell_type": "markdown",
   "id": "01ace39e",
   "metadata": {},
   "source": [
    "1.\tWrite a Python program to convert kilometers to miles?\n"
   ]
  },
  {
   "cell_type": "code",
   "execution_count": 2,
   "id": "609b9794",
   "metadata": {},
   "outputs": [
    {
     "name": "stdout",
     "output_type": "stream",
     "text": [
      "Before conversion in miles= 150\n",
      "After conversion in miles= 93.20565\n"
     ]
    }
   ],
   "source": [
    "km=150\n",
    "print('Before conversion in miles=',km)\n",
    "con_fact=0.621371\n",
    "miles=km*con_fact\n",
    "print('After conversion in miles=',miles)"
   ]
  },
  {
   "cell_type": "markdown",
   "id": "635d1242",
   "metadata": {},
   "source": [
    "2.\tWrite a Python program to convert Celsius to Fahrenheit?\n",
    "\n"
   ]
  },
  {
   "cell_type": "code",
   "execution_count": 6,
   "id": "0fff2808",
   "metadata": {},
   "outputs": [
    {
     "name": "stdout",
     "output_type": "stream",
     "text": [
      "Before conversion in Fahrenheit= 37\n",
      "After conversion in Fahrenheit= 98.60000000000001\n"
     ]
    }
   ],
   "source": [
    "celsius=37\n",
    "print('Before conversion in Fahrenheit=',celsius)\n",
    "\n",
    "Fahrenheit=(celsius*1.8)+32\n",
    "print('After conversion in Fahrenheit=',Fahrenheit)"
   ]
  },
  {
   "cell_type": "markdown",
   "id": "2edd8fd1",
   "metadata": {},
   "source": [
    "3.\tWrite a Python program to display calendar?\n"
   ]
  },
  {
   "cell_type": "code",
   "execution_count": 8,
   "id": "4acc89eb",
   "metadata": {},
   "outputs": [
    {
     "name": "stdout",
     "output_type": "stream",
     "text": [
      "     March 2023\n",
      "Mo Tu We Th Fr Sa Su\n",
      "       1  2  3  4  5\n",
      " 6  7  8  9 10 11 12\n",
      "13 14 15 16 17 18 19\n",
      "20 21 22 23 24 25 26\n",
      "27 28 29 30 31\n",
      "\n"
     ]
    }
   ],
   "source": [
    "import calendar\n",
    "yy=2023\n",
    "mm=3\n",
    "\n",
    "print(calendar.month(yy,mm))"
   ]
  },
  {
   "cell_type": "markdown",
   "id": "0a5d5993",
   "metadata": {},
   "source": [
    "4.\tWrite a Python program to solve quadratic equation?\n"
   ]
  },
  {
   "cell_type": "code",
   "execution_count": 10,
   "id": "f7991cbd",
   "metadata": {},
   "outputs": [
    {
     "name": "stdout",
     "output_type": "stream",
     "text": [
      "Real and different roots\n",
      "Roots=\n",
      "-0.3819660112501051\n",
      "-2.618033988749895\n"
     ]
    }
   ],
   "source": [
    "import math\n",
    "a=2\n",
    "b=6\n",
    "c=2\n",
    "\n",
    "dis=(b*b)-(4*a*c)\n",
    "d=math.sqrt(abs(dis))\n",
    "\n",
    "if d>0:\n",
    "    print('Real and different roots')\n",
    "    print('Roots=')\n",
    "    print((-b+d)/(2*a))\n",
    "    print((-b-d)/(2*a))\n",
    "    \n",
    "elif d==0:\n",
    "    print('Real and equal roots')\n",
    "    print('Roots=')\n",
    "    print(-b/(2*a))\n",
    "    \n",
    "    \n",
    "else:\n",
    "    print('Imaginary roots')\n",
    "    print('Roots=')\n",
    "    print(- b / (2 * a), \" + i\", d) \n",
    "    print(- b / (2 * a), \" - i\", d) \n",
    "  \n",
    "    "
   ]
  },
  {
   "cell_type": "markdown",
   "id": "6ae29528",
   "metadata": {},
   "source": [
    "5.\tWrite a Python program to swap two variables without temp variable?\n"
   ]
  },
  {
   "cell_type": "code",
   "execution_count": 11,
   "id": "8a2f5b60",
   "metadata": {},
   "outputs": [
    {
     "name": "stdout",
     "output_type": "stream",
     "text": [
      "Before swapping:\n",
      "a= 12\n",
      "b= 56\n",
      "After swapping:\n",
      "a= 56\n",
      "b= 12\n"
     ]
    }
   ],
   "source": [
    "a=12\n",
    "b=56\n",
    "print('Before swapping:')\n",
    "print('a=',a)\n",
    "print('b=',b)\n",
    "\n",
    "a,b=b,a\n",
    "print('After swapping:')\n",
    "print('a=',a)\n",
    "print('b=',b)\n"
   ]
  },
  {
   "cell_type": "code",
   "execution_count": null,
   "id": "3bfd6ba3",
   "metadata": {},
   "outputs": [],
   "source": []
  }
 ],
 "metadata": {
  "kernelspec": {
   "display_name": "Python 3 (ipykernel)",
   "language": "python",
   "name": "python3"
  },
  "language_info": {
   "codemirror_mode": {
    "name": "ipython",
    "version": 3
   },
   "file_extension": ".py",
   "mimetype": "text/x-python",
   "name": "python",
   "nbconvert_exporter": "python",
   "pygments_lexer": "ipython3",
   "version": "3.9.7"
  }
 },
 "nbformat": 4,
 "nbformat_minor": 5
}
