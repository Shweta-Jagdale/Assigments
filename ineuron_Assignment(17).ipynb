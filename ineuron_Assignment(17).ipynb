{
 "cells": [
  {
   "cell_type": "markdown",
   "id": "dee1e6cd",
   "metadata": {},
   "source": [
    "1. Assign the value 7 to the variable guess_me. Then, write the conditional tests (if, else, and elif) to print the string 'too low' if guess_me is less than 7, 'too high' if greater than 7, and 'just right' if equal to 7.\n"
   ]
  },
  {
   "cell_type": "code",
   "execution_count": 4,
   "id": "6b8c7c44",
   "metadata": {},
   "outputs": [
    {
     "name": "stdout",
     "output_type": "stream",
     "text": [
      "just right\n"
     ]
    }
   ],
   "source": [
    "guess_me=7\n",
    "if guess_me<7:\n",
    "    print(\"too low\")\n",
    "elif guess_me>7:\n",
    "    print(\"too high\")\n",
    "else:\n",
    "    print(\"just right\")\n",
    "    \n",
    "\n",
    "    "
   ]
  },
  {
   "cell_type": "markdown",
   "id": "7c5ca57d",
   "metadata": {},
   "source": [
    "2. Assign the value 7 to the variable guess_me and the value 1 to the variable start. Write a while loop that compares start with guess_me. Print too low if start is less than guess me. If start equals guess_me, print 'found it!' and exit the loop. If start is greater than guess_me, print 'oops' and exit the loop. Increment start at the end of the loop.\n",
    "\n"
   ]
  },
  {
   "cell_type": "code",
   "execution_count": 5,
   "id": "43acd12d",
   "metadata": {},
   "outputs": [
    {
     "name": "stdout",
     "output_type": "stream",
     "text": [
      "too low\n",
      "too low\n",
      "too low\n",
      "too low\n",
      "too low\n",
      "too low\n",
      "fount it!\n"
     ]
    }
   ],
   "source": [
    "guess_me=7\n",
    "start=1\n",
    "while True:\n",
    "    if start<guess_me:\n",
    "        print(\"too low\")\n",
    "    elif start==guess_me:\n",
    "        print(\"fount it!\")\n",
    "        break;\n",
    "    else:\n",
    "        print(\"oops\")\n",
    "        break\n",
    "    start+=1    "
   ]
  },
  {
   "cell_type": "markdown",
   "id": "a2ceec56",
   "metadata": {},
   "source": [
    "3. Print the following values of the list [3, 2, 1, 0] using a for loop.\n"
   ]
  },
  {
   "cell_type": "code",
   "execution_count": 6,
   "id": "70e22080",
   "metadata": {},
   "outputs": [
    {
     "name": "stdout",
     "output_type": "stream",
     "text": [
      "3\n",
      "2\n",
      "1\n",
      "0\n"
     ]
    }
   ],
   "source": [
    "list=[3, 2, 1, 0]\n",
    "for i in list:\n",
    "    print(i)"
   ]
  },
  {
   "cell_type": "markdown",
   "id": "59436c61",
   "metadata": {},
   "source": [
    "4. Use a list comprehension to make a list of the even numbers in range(10)\n"
   ]
  },
  {
   "cell_type": "code",
   "execution_count": 9,
   "id": "582c176a",
   "metadata": {},
   "outputs": [
    {
     "name": "stdout",
     "output_type": "stream",
     "text": [
      "[0, 2, 4, 6, 8]\n"
     ]
    }
   ],
   "source": [
    "list=[i for i in range(10) if i%2==0]\n",
    "print(list)"
   ]
  },
  {
   "cell_type": "markdown",
   "id": "59378a0e",
   "metadata": {},
   "source": [
    "5. Use a dictionary comprehension to create the dictionary squares. Use range(10) to return the keys, and use the square of each key as its value.\n"
   ]
  },
  {
   "cell_type": "code",
   "execution_count": 13,
   "id": "58b11ff4",
   "metadata": {},
   "outputs": [
    {
     "name": "stdout",
     "output_type": "stream",
     "text": [
      "{0: 0, 1: 1, 2: 4, 3: 9, 4: 16, 5: 25, 6: 36, 7: 49, 8: 64, 9: 81}\n"
     ]
    }
   ],
   "source": [
    "square={num:num*num for num in range(10) }\n",
    "print(square)"
   ]
  },
  {
   "cell_type": "markdown",
   "id": "00555065",
   "metadata": {},
   "source": [
    "6. Construct the set odd from the odd numbers in the range using a set comprehension (10).\n"
   ]
  },
  {
   "cell_type": "code",
   "execution_count": 15,
   "id": "bb5973c9",
   "metadata": {},
   "outputs": [
    {
     "name": "stdout",
     "output_type": "stream",
     "text": [
      "{1, 3, 5, 7, 9}\n"
     ]
    }
   ],
   "source": [
    "odd={num for num in range(10) if num%2==1}\n",
    "print(odd)"
   ]
  },
  {
   "cell_type": "markdown",
   "id": "d2549113",
   "metadata": {},
   "source": [
    "7. Use a generator comprehension to return the string 'Got ' and a number for the numbers in range(10). Iterate through this by using a for loop.\n"
   ]
  },
  {
   "cell_type": "code",
   "execution_count": 16,
   "id": "10523029",
   "metadata": {},
   "outputs": [
    {
     "name": "stdout",
     "output_type": "stream",
     "text": [
      "Got0\n",
      "Got1\n",
      "Got2\n",
      "Got3\n",
      "Got4\n",
      "Got5\n",
      "Got6\n",
      "Got7\n",
      "Got8\n",
      "Got9\n"
     ]
    }
   ],
   "source": [
    "generator=(\"Got\" +str(num) for num in range(10))\n",
    "for i in generator:\n",
    "    print(i)"
   ]
  },
  {
   "cell_type": "markdown",
   "id": "2216371e",
   "metadata": {},
   "source": [
    "8. Define a function called good that returns the list ['Harry', 'Ron', 'Hermione'].\n"
   ]
  },
  {
   "cell_type": "code",
   "execution_count": 17,
   "id": "f427eb8b",
   "metadata": {},
   "outputs": [
    {
     "data": {
      "text/plain": [
       "['Harry', 'Ron', 'Hermione']"
      ]
     },
     "execution_count": 17,
     "metadata": {},
     "output_type": "execute_result"
    }
   ],
   "source": [
    "def good():\n",
    "    return ['Harry', 'Ron', 'Hermione']\n",
    "good()"
   ]
  },
  {
   "cell_type": "markdown",
   "id": "7c3251af",
   "metadata": {},
   "source": [
    "9. Define a generator function called get_odds that returns the odd numbers from range(10). Use a for loop to find and print the third value returned.\n"
   ]
  },
  {
   "cell_type": "code",
   "execution_count": 30,
   "id": "b05d1858",
   "metadata": {},
   "outputs": [
    {
     "name": "stdout",
     "output_type": "stream",
     "text": [
      "Third number= 5\n"
     ]
    }
   ],
   "source": [
    "def get_odds():\n",
    "    for i in range(1,10,2):\n",
    "        yield i\n",
    "count=1\n",
    "for i in get_odds():\n",
    "    if count==3:\n",
    "        print(\"Third number=\",i)\n",
    "        break\n",
    "    count +=1"
   ]
  },
  {
   "cell_type": "markdown",
   "id": "aac4623b",
   "metadata": {},
   "source": [
    "10. Define an exception called OopsException. Raise this exception to see what happens. Then write the code to catch this exception and print 'Caught an oops'.\n"
   ]
  },
  {
   "cell_type": "code",
   "execution_count": 34,
   "id": "98b998df",
   "metadata": {},
   "outputs": [
    {
     "name": "stdout",
     "output_type": "stream",
     "text": [
      "Caught an oops\n"
     ]
    }
   ],
   "source": [
    "class OopsException(Exception):\n",
    "    pass\n",
    "def raise_exception(num):\n",
    "    if num <0:\n",
    "        raise OopsException(num)\n",
    "        \n",
    "try:\n",
    "    raise_exception(-1)\n",
    "except OopsException as err:\n",
    "    print(\"Caught an oops\")\n",
    "        "
   ]
  },
  {
   "cell_type": "markdown",
   "id": "c294249b",
   "metadata": {},
   "source": [
    "11. Use zip() to make a dictionary called movies that pairs these lists: titles = ['Creature of Habit', 'Crewel Fate'] and plots = ['A nun turns into a monster', 'A haunted yarn shop'].\n"
   ]
  },
  {
   "cell_type": "code",
   "execution_count": 35,
   "id": "5167c0f1",
   "metadata": {},
   "outputs": [
    {
     "name": "stdout",
     "output_type": "stream",
     "text": [
      "{'Creature of Habit': 'A nun turns into a monster', 'Crewel Fate': 'A haunted yarn shop'}\n"
     ]
    }
   ],
   "source": [
    "titles = ['Creature of Habit', 'Crewel Fate']\n",
    "plots = ['A nun turns into a monster', 'A haunted yarn shop']\n",
    "movies = dict(zip(titles, plots))\n",
    "print(movies)"
   ]
  },
  {
   "cell_type": "code",
   "execution_count": null,
   "id": "e00eea3d",
   "metadata": {},
   "outputs": [],
   "source": []
  }
 ],
 "metadata": {
  "kernelspec": {
   "display_name": "Python 3 (ipykernel)",
   "language": "python",
   "name": "python3"
  },
  "language_info": {
   "codemirror_mode": {
    "name": "ipython",
    "version": 3
   },
   "file_extension": ".py",
   "mimetype": "text/x-python",
   "name": "python",
   "nbconvert_exporter": "python",
   "pygments_lexer": "ipython3",
   "version": "3.9.7"
  }
 },
 "nbformat": 4,
 "nbformat_minor": 5
}
