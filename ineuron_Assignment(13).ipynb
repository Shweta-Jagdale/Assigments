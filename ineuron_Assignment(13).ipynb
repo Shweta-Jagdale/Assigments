{
 "cells": [
  {
   "cell_type": "markdown",
   "id": "f9c27e67",
   "metadata": {},
   "source": [
    "1. What advantages do Excel spreadsheets have over CSV spreadsheets?\n",
    "ANS:It is a binary file that holds information about all the worksheets in a workbook\n",
    "An Excel not only stores data but can also do operations on the data\n",
    "Files saved in excel cannot be opened or edited by text editors\n",
    "large files user is much easier in Excel for the end user. Also, you can have additional functions like selecting individual cells for import, convert dates and time automatically, reading formulas and their results, filters, sorting, etc\n",
    "Apart from text, data can also be stored in form of charts and graphs\n",
    "Excel can connect to external data sources to fetch data. You can use custom add-in in Excel to increase its functionality.\n",
    "Excel allows for Review of Data with detailed tracking and commenting feature\n",
    "In Excel, spreadsheets can have values of data types other than strings; cells can have different fonts, sizes, or color settings; cells can have varying widths and heights; adjacent cells can be merged\n"
   ]
  },
  {
   "cell_type": "markdown",
   "id": "7b9151d8",
   "metadata": {},
   "source": [
    "2.What do you pass to csv.reader() and csv.writer() to create reader and writer objects?\n",
    "ANS:\n"
   ]
  },
  {
   "cell_type": "code",
   "execution_count": null,
   "id": "2b25aa82",
   "metadata": {},
   "outputs": [],
   "source": [
    "import csv\n",
    "file_csv = open('xyz.csv')\n",
    "filereader = csv.reader(file_csv)\n",
    "fileData = list(filereader)\n",
    "fileData\n"
   ]
  },
  {
   "cell_type": "markdown",
   "id": "0990ba16",
   "metadata": {},
   "source": [
    "3. What modes do File objects for reader and writer objects need to be opened in?\n",
    "ANS:File objects need to be opened in read-binary ('rb') for Reader objects and write-binary ('wb') for Writer objects\n"
   ]
  },
  {
   "cell_type": "markdown",
   "id": "64f40838",
   "metadata": {},
   "source": [
    "4. What method takes a list argument and writes it to a CSV file?\n",
    "ANS:"
   ]
  },
  {
   "cell_type": "code",
   "execution_count": null,
   "id": "4ef84fbc",
   "metadata": {},
   "outputs": [],
   "source": [
    "File_abc = open('xyz.csv','w')\n",
    "File_Writer = csv.writer(File_xyz)\n",
    "csv.writer(File_xyz).writerow(['cat','fish','dog'])\n",
    "    "
   ]
  },
  {
   "cell_type": "markdown",
   "id": "492ea8cf",
   "metadata": {},
   "source": [
    "5. What do the keyword arguments delimiter and line terminator do?\n",
    "ANS:The delimiter argument changes the string used to separate cells in a row.\n",
    "The line terminator argument changes the string used to separate rows.\n"
   ]
  },
  {
   "cell_type": "markdown",
   "id": "196eb42b",
   "metadata": {},
   "source": [
    "6. What function takes a string of JSON data and returns a Python data structure?\n",
    "ANS: json.loads()"
   ]
  },
  {
   "cell_type": "markdown",
   "id": "d2e9d356",
   "metadata": {},
   "source": [
    "7. What function takes a Python data structure and returns a string of JSON data?\n",
    "ANS:json.dumps()"
   ]
  }
 ],
 "metadata": {
  "kernelspec": {
   "display_name": "Python 3 (ipykernel)",
   "language": "python",
   "name": "python3"
  },
  "language_info": {
   "codemirror_mode": {
    "name": "ipython",
    "version": 3
   },
   "file_extension": ".py",
   "mimetype": "text/x-python",
   "name": "python",
   "nbconvert_exporter": "python",
   "pygments_lexer": "ipython3",
   "version": "3.9.7"
  }
 },
 "nbformat": 4,
 "nbformat_minor": 5
}
