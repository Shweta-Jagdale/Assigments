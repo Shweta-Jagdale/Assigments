{
 "cells": [
  {
   "cell_type": "markdown",
   "id": "f92f44f8",
   "metadata": {},
   "source": [
    "1. Why are functions advantageous to have in your programs?\n",
    "ANS: Functions reduce the need for duplicate code. This makes programs shorter, easier to read, and easier to update.\n"
   ]
  },
  {
   "cell_type": "markdown",
   "id": "30eca56b",
   "metadata": {},
   "source": [
    "2. When does the code in a function run: when it's specified or when it's called?\n",
    "ANS: When the function is called"
   ]
  },
  {
   "cell_type": "markdown",
   "id": "9866a71d",
   "metadata": {},
   "source": [
    "3. What statement creates a function?\n",
    "ANS: def statment creates a function"
   ]
  },
  {
   "cell_type": "markdown",
   "id": "9d595e2c",
   "metadata": {},
   "source": [
    "4. What is the difference between a function and a function call?\n",
    "ANS: A function consists of the def statement and the code.\n",
    "     A function call is what moves the program execution into the function, and the function call evaluates to the function's        return value"
   ]
  },
  {
   "cell_type": "markdown",
   "id": "ee49c698",
   "metadata": {},
   "source": [
    "5. How many global scopes are there in a Python program? How many local scopes?\n",
    "ANS: There is one global scope, and a local scope is created whenever a function is called."
   ]
  },
  {
   "cell_type": "markdown",
   "id": "7f274a74",
   "metadata": {},
   "source": [
    "6. What happens to variables in a local scope when the function call returns?\n",
    "ANS:When a function returns, the local scope is destroyed, and all the variables in it are forgotten."
   ]
  },
  {
   "cell_type": "markdown",
   "id": "4bd864ba",
   "metadata": {},
   "source": [
    "7. What is the concept of a return value? Is it possible to have a return value in an expression?\n",
    "ANS:A return value is the value that a function call evaluates to. "
   ]
  },
  {
   "cell_type": "markdown",
   "id": "b2789045",
   "metadata": {},
   "source": [
    "8. If a function does not have a return statement, what is the return value of a call to that function?\n",
    "ANS:If there is no return statement for a function, its return value is None."
   ]
  },
  {
   "cell_type": "markdown",
   "id": "216bddc9",
   "metadata": {},
   "source": [
    "9. How do you make a function variable refer to the global variable?\n",
    "ANS:A global statement will force a variable in a function to refer to the global variable."
   ]
  },
  {
   "cell_type": "markdown",
   "id": "9bf1fe27",
   "metadata": {},
   "source": [
    "10. What is the data type of None?\n",
    "ANS: NoneType"
   ]
  },
  {
   "cell_type": "markdown",
   "id": "2ad441a0",
   "metadata": {},
   "source": [
    "11. What does the sentence import areallyourpetsnamederic do?\n",
    "ANS:That import statement imports a module named areallyourpetsnamederic.\n",
    "\n",
    "\n"
   ]
  },
  {
   "cell_type": "markdown",
   "id": "d508d6a7",
   "metadata": {},
   "source": [
    "12. If you had a bacon() feature in a spam module, what would you call it after importing spam?\n",
    "ANS: spam.bacon()"
   ]
  },
  {
   "cell_type": "markdown",
   "id": "a55beeb5",
   "metadata": {},
   "source": [
    "13. What can you do to save a programme from crashing if it encounters an error?\n",
    "ANS: Place the line of code that might cause an error in a try clause."
   ]
  },
  {
   "cell_type": "markdown",
   "id": "2d7b85f3",
   "metadata": {},
   "source": [
    "14. What is the purpose of the try clause? What is the purpose of the except clause?\n",
    "ANS:The line of code that migjt cause an error is put in the try block and if the code in try block causes an error then the       code that has to be executed is goes in the except block"
   ]
  }
 ],
 "metadata": {
  "kernelspec": {
   "display_name": "Python 3 (ipykernel)",
   "language": "python",
   "name": "python3"
  },
  "language_info": {
   "codemirror_mode": {
    "name": "ipython",
    "version": 3
   },
   "file_extension": ".py",
   "mimetype": "text/x-python",
   "name": "python",
   "nbconvert_exporter": "python",
   "pygments_lexer": "ipython3",
   "version": "3.9.7"
  }
 },
 "nbformat": 4,
 "nbformat_minor": 5
}
