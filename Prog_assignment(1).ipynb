{
 "cells": [
  {
   "cell_type": "markdown",
   "id": "47ba5b80",
   "metadata": {},
   "source": [
    "1.\tWrite a Python program to print \"Hello Python\"?\n"
   ]
  },
  {
   "cell_type": "code",
   "execution_count": 1,
   "id": "2f67cce4",
   "metadata": {},
   "outputs": [
    {
     "name": "stdout",
     "output_type": "stream",
     "text": [
      "Hello python\n"
     ]
    }
   ],
   "source": [
    "print('Hello python')"
   ]
  },
  {
   "cell_type": "markdown",
   "id": "304bfb7e",
   "metadata": {},
   "source": [
    "2.\tWrite a Python program to do arithmetical operations addition and division.?\n"
   ]
  },
  {
   "cell_type": "code",
   "execution_count": 3,
   "id": "26ffecfb",
   "metadata": {},
   "outputs": [
    {
     "name": "stdout",
     "output_type": "stream",
     "text": [
      "Addition: 160\n",
      "Division: 1.6666666666666667\n"
     ]
    }
   ],
   "source": [
    "a=100\n",
    "b=60\n",
    "print(\"Addition:\",(a+b))\n",
    "print('Division:',(a/b))"
   ]
  },
  {
   "cell_type": "markdown",
   "id": "dcad542f",
   "metadata": {},
   "source": [
    "3.\tWrite a Python program to find the area of a triangle?\n"
   ]
  },
  {
   "cell_type": "code",
   "execution_count": 8,
   "id": "0d13d05d",
   "metadata": {},
   "outputs": [
    {
     "name": "stdout",
     "output_type": "stream",
     "text": [
      "length 12\n",
      "height 18\n",
      "Area of triangle is: 108.0\n"
     ]
    }
   ],
   "source": [
    "length=12\n",
    "height=18\n",
    "area=0.5*length*height\n",
    "print('length',length)\n",
    "print('height',height)\n",
    "print('Area of triangle is:',(area))\n"
   ]
  },
  {
   "cell_type": "markdown",
   "id": "b5beeb81",
   "metadata": {},
   "source": [
    "4.\tWrite a Python program to swap two variables?\n"
   ]
  },
  {
   "cell_type": "code",
   "execution_count": 9,
   "id": "64b12ad3",
   "metadata": {},
   "outputs": [
    {
     "name": "stdout",
     "output_type": "stream",
     "text": [
      "Before swapping\n",
      "a= 10\n",
      "b= 62\n",
      "After swapping\n",
      "a= 62\n",
      "b= 10\n"
     ]
    }
   ],
   "source": [
    "a=10\n",
    "b=62\n",
    "print('Before swapping')\n",
    "print('a=',a)\n",
    "print('b=',b)\n",
    "temp=a\n",
    "a=b\n",
    "b=temp\n",
    "print('After swapping')\n",
    "print('a=',a)\n",
    "print('b=',b)"
   ]
  },
  {
   "cell_type": "markdown",
   "id": "9ea280bb",
   "metadata": {},
   "source": [
    "5.\tWrite a Python program to generate a random number?\n"
   ]
  },
  {
   "cell_type": "code",
   "execution_count": 10,
   "id": "b666329f",
   "metadata": {},
   "outputs": [
    {
     "name": "stdout",
     "output_type": "stream",
     "text": [
      "0.5413532729149504\n"
     ]
    }
   ],
   "source": [
    "import random\n",
    "num=random.random()\n",
    "print(num)"
   ]
  },
  {
   "cell_type": "code",
   "execution_count": null,
   "id": "1ca42831",
   "metadata": {},
   "outputs": [],
   "source": []
  }
 ],
 "metadata": {
  "kernelspec": {
   "display_name": "Python 3 (ipykernel)",
   "language": "python",
   "name": "python3"
  },
  "language_info": {
   "codemirror_mode": {
    "name": "ipython",
    "version": 3
   },
   "file_extension": ".py",
   "mimetype": "text/x-python",
   "name": "python",
   "nbconvert_exporter": "python",
   "pygments_lexer": "ipython3",
   "version": "3.9.7"
  }
 },
 "nbformat": 4,
 "nbformat_minor": 5
}
