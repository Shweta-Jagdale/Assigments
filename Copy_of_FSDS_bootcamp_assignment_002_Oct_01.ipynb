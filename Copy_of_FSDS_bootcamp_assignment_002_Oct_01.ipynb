{
  "nbformat": 4,
  "nbformat_minor": 0,
  "metadata": {
    "colab": {
      "provenance": [],
      "collapsed_sections": []
    },
    "kernelspec": {
      "name": "python3",
      "display_name": "Python 3"
    },
    "language_info": {
      "name": "python"
    }
  },
  "cells": [
    {
      "cell_type": "markdown",
      "source": [
        "# ASSIGNMENTS - Compulsory\n",
        "## Send it before 0000 hrs IST or 12 AM Wednesday\n",
        "\n",
        "## NOTE: Evaluation will be done before next class.\n",
        "\n",
        "## HOW TO SUBMIT: -\n",
        "Download this notebook, Solve it and upload in the google form given in the mail."
      ],
      "metadata": {
        "id": "cyOfbWCdOjEr"
      }
    },
    {
      "cell_type": "markdown",
      "source": [
        "### Try to understand the following examples and answer the question based on it - \n",
        "    \n",
        "**Arithmatic Operators**\n",
        "\n",
        "|Operation|Meaning|\n",
        "|:-:|:-:|\n",
        "| **+** |addition|\n",
        "| **-** |subtraction|\n",
        "| **\\*** |multiplication|\n",
        "| **/** |true division|\n",
        "| **//** |integer division|\n",
        "| **%** |the modulo operator|\n",
        "\n",
        "\n",
        "Here `+`, `-`, `*`, `/` are regular arithmatic operators. Lets look at the `//` and `%` operators\n",
        "\n",
        "Usecase or examples - \n",
        "    \n",
        "```python\n",
        "var_a = 5\n",
        "var_b = 25\n",
        "integer_division = var_b // var_a\n",
        "print(f\"integer division: {var_b}/{var_a}={integer_division}\")\n",
        "```\n",
        "\n",
        "OUTPUT: integer division: 25/5=5\n",
        "\n",
        "```python\n",
        "var_a = 3\n",
        "var_b = 25\n",
        "integer_division = var_b // var_a\n",
        "print(f\"integer division: {var_b}/{var_a}={integer_division}\")\n",
        "```\n",
        "\n",
        "OUTPUT: integer division: 25/3=8\n",
        "\n",
        "```python\n",
        "var_a = 5\n",
        "var_b = 25\n",
        "remainder = var_b % var_a\n",
        "print(f\"remainder: {var_b}/{var_a} is {remainder}\")\n",
        "```\n",
        "\n",
        "OUTPUT: remainder: 25/5 is 0\n",
        "\n",
        "```python\n",
        "var_a = 3\n",
        "var_b = 25\n",
        "remainder = var_b % var_a\n",
        "print(f\"remainder: {var_b}/{var_a} is {remainder}\")\n",
        "```\n",
        "\n",
        "OUTPUT: remainder: 25/3 is 1\n",
        "\n"
      ],
      "metadata": {
        "id": "a_4kbBVWNY-4"
      }
    },
    {
      "cell_type": "code",
      "source": [],
      "metadata": {
        "id": "v0tMta9sk8qo"
      },
      "execution_count": null,
      "outputs": []
    },
    {
      "cell_type": "code",
      "source": [],
      "metadata": {
        "id": "feXKVLDMfcFz"
      },
      "execution_count": null,
      "outputs": []
    },
    {
      "cell_type": "markdown",
      "source": [
        "\n",
        "1. What is indentation error? Why indentation is important? Give one simple example?\n",
        "\n",
        "2. Correct the following code and write the comment where you made the correction?\n",
        "\n",
        "  ```python\n",
        "  class_started = bool(input(\"Hey friend, is class started?: [0-False/1-True]\"))\n",
        "\n",
        "  if class_started:\n",
        "      print(\"Since class started...\")\n",
        "      print(\"Lets concentrate\")\n",
        "  else:\n",
        "      print(\"Since class is not started...\")\n",
        "      print(\"let's revise\")    \n",
        "  ```\n",
        "\n",
        "  **HINT:** Refer your data type conversion class\n",
        "\n",
        "3. Use if else condition to verify that dataype of `input()` method in python is always string.\n",
        "\n",
        "4. Take 3 variables and assign integer values to them. Find the largest variable, by only using the if and else conditions.\n",
        "\n",
        "\n",
        "5. What would be the solution?\n",
        "    1. True\n",
        "    2. False\n",
        "\n",
        "    ```python\n",
        "    a = 6\n",
        "    b = 10\n",
        "    print( not ( not a == 10 or not b == 10) )\n",
        "    ```\n",
        "    \n",
        "6. Find the answer as well as find out the reason behind the result? -\n",
        "    - case 1:\n",
        "        ```python\n",
        "        A = 5.0\n",
        "        B = 10/2\n",
        "        print(A is B)\n",
        "        ```\n",
        "    - case 2:\n",
        "        ```python\n",
        "        A = 5.0\n",
        "        B = int(10/2)\n",
        "        print(A is B)\n",
        "        ```\n",
        "    - case 3:\n",
        "        ```python\n",
        "        A = 5.0\n",
        "        B = float(10/2)\n",
        "        print(A is B)\n",
        "        ```"
      ],
      "metadata": {
        "id": "GT4IytkJMNa-"
      }
    },
    {
      "cell_type": "markdown",
      "source": [
        "### Answer below questions on the above theory - \n",
        "\n",
        "7. Write a program that asks the user to enter a number. You should print out a message to the user, either “That number is divisible by either 3 or 5”, or “That number is not divisible by either 3 or 5”. Be sure to consider the data type of the input you are taking in from the user. Use a single if/else block to solve this problem.\n",
        "\n",
        "8. Take user input for length and width. Then calculate the area of rectangle. Also print as per length and width whether its a square of rectangle.\n",
        "\n",
        "9. Take two variable radius_1 and radius_2 and calculate the area of circle_1 and circle_2. Also print which circle has large area. If area is equal then print area is equal.\n",
        "\n",
        "10. Check whether a year is leap year or not. Use nested if...else to solve this problem. A leap year is exactly divisible by 4 except for century years (years ending with 00). The century year is a leap year only if it is perfectly divisible by 400."
      ],
      "metadata": {
        "id": "v288WPlMNxmM"
      }
    },
    {
      "cell_type": "code",
      "execution_count": null,
      "metadata": {
        "id": "XumyqFp6MHnv",
        "colab": {
          "base_uri": "https://localhost:8080/",
          "height": 148
        },
        "outputId": "0f8f0cfb-9e75-4f71-f4e5-36e0462aa329"
      },
      "outputs": [
        {
          "output_type": "error",
          "ename": "SyntaxError",
          "evalue": "ignored",
          "traceback": [
            "\u001b[0;36m  File \u001b[0;32m\"<ipython-input-1-1eccdd62b40d>\"\u001b[0;36m, line \u001b[0;32m1\u001b[0m\n\u001b[0;31m    1)# If we unintentionally placed an indentation in the wrong place or there is an absence of tabs or white spaces between lines of code Since Python adheres to\u001b[0m\n\u001b[0m     ^\u001b[0m\n\u001b[0;31mSyntaxError\u001b[0m\u001b[0;31m:\u001b[0m invalid syntax\n"
          ]
        }
      ],
      "source": [
        "\n",
        "1)# If we unintentionally placed an indentation in the wrong place or there is an absence of tabs or white spaces between lines of code Since Python adheres to\n",
        "# strict guidelines to arrange written codes, an indentation in the wrong place will inevitably return an error.This error is known as indentation error.\n",
        "# Indentation is a very important concept of Python because without properly indenting the Python code, you will end up seeing IndentationError and\n",
        "# the code will not get compiled.\n",
        "# Example-\n",
        "A=\"shweta_jagdale\"\n",
        "    print(A)"
      ]
    },
    {
      "cell_type": "code",
      "source": [
        "2. class_started = int(input(\"Hey friend, is class started?: [0-False/1-True]\"))  # As user has to give input as 0 for false and 1 for true datatype should be int and not bool\n",
        "\n",
        "if class_started==1:  # if statement should contain condition.\n",
        "   print(\"Since class started...\")\n",
        "   print(\"Lets concentrate\")\n",
        "else:\n",
        "   print(\"Since class is not started...\")\n",
        "   print(\"let's revise\") "
      ],
      "metadata": {
        "colab": {
          "base_uri": "https://localhost:8080/"
        },
        "id": "OC8lMa05kyZR",
        "outputId": "ed28a423-804a-40db-eacd-c52da8d46fbf"
      },
      "execution_count": null,
      "outputs": [
        {
          "output_type": "stream",
          "name": "stdout",
          "text": [
            "Hey friend, is class started?: [0-False/1-True]0\n",
            "Since class is not started...\n",
            "let's revise\n"
          ]
        }
      ]
    },
    {
      "cell_type": "code",
      "source": [
        "#3.\n",
        "A=input(\"Enter input: \")\n",
        "if type(A)==str:\n",
        "  print(\"The given input is a string\")\n",
        "else:\n",
        "  print(\"The given input is not a string\")  "
      ],
      "metadata": {
        "id": "o2POH1OhmgM4",
        "colab": {
          "base_uri": "https://localhost:8080/"
        },
        "outputId": "23fb7ab9-cdd0-4f42-bf47-0412f91b51e0"
      },
      "execution_count": null,
      "outputs": [
        {
          "output_type": "stream",
          "name": "stdout",
          "text": [
            "Enter input: 52012\n",
            "The given input is a string\n"
          ]
        }
      ]
    },
    {
      "cell_type": "code",
      "source": [
        "#4 Take 3 variables and assign integer values to them. Find the largest variable, by only using the if and else conditions\n",
        "a=10\n",
        "b=35\n",
        "c=5\n",
        "if a>b:\n",
        "   if a>c:\n",
        "     print(\"a is the largest number\")\n",
        "   else:\n",
        "     print(\"c is the largest number\") \n",
        "else:\n",
        "  if b>c:\n",
        "    print(\"b is the largest number\")\n",
        "  else:\n",
        "     print(\"c is the largest number\")          \n",
        "          \n"
      ],
      "metadata": {
        "id": "bnQbIo8uqTWw",
        "colab": {
          "base_uri": "https://localhost:8080/"
        },
        "outputId": "f1b335e3-3361-4bcf-cdeb-c288da8746c7"
      },
      "execution_count": null,
      "outputs": [
        {
          "output_type": "stream",
          "name": "stdout",
          "text": [
            "b is the largest number\n"
          ]
        }
      ]
    },
    {
      "cell_type": "code",
      "source": [
        "# 5 ANS. False"
      ],
      "metadata": {
        "id": "TEkzTNb9SrHA"
      },
      "execution_count": null,
      "outputs": []
    },
    {
      "cell_type": "code",
      "source": [
        "# 6 case1:\n",
        "A = 5.0\n",
        "B = 10/2\n",
        "print(A is B)           \n",
        "# gives output as false because even if value of 10/2 is 5.0, A is given as float value and B is given with the operator/."
      ],
      "metadata": {
        "colab": {
          "base_uri": "https://localhost:8080/"
        },
        "id": "Zw9GGbX7TWXp",
        "outputId": "60697258-21b8-45fb-b67e-0a89c5306361"
      },
      "execution_count": null,
      "outputs": [
        {
          "output_type": "stream",
          "name": "stdout",
          "text": [
            "False\n"
          ]
        }
      ]
    },
    {
      "cell_type": "code",
      "source": [
        "#6 case 2\n",
        "A = 5.0\n",
        "B = int(10/2)\n",
        "print(A is B)\n",
        "# value of A is float and the value of B is stored as a integer since A and B have different dayatype the output is false."
      ],
      "metadata": {
        "colab": {
          "base_uri": "https://localhost:8080/"
        },
        "id": "zQOp7Z7oTtWu",
        "outputId": "266149bc-00a3-402f-e49b-01b5c1fa5203"
      },
      "execution_count": null,
      "outputs": [
        {
          "output_type": "stream",
          "name": "stdout",
          "text": [
            "False\n"
          ]
        }
      ]
    },
    {
      "cell_type": "code",
      "source": [
        "#6 case 3\n",
        "A = 5.0\n",
        "B = float(10/2)\n",
        "print(A is B)\n",
        "# is operator checks whether A is same as B. but the value of A is directly given as float and in case of B it is stored as float hence gives output as false."
      ],
      "metadata": {
        "colab": {
          "base_uri": "https://localhost:8080/"
        },
        "id": "htLH9OiDTyBz",
        "outputId": "f70f53b9-e5cb-488f-fc80-077790abb099"
      },
      "execution_count": null,
      "outputs": [
        {
          "output_type": "stream",
          "name": "stdout",
          "text": [
            "False\n"
          ]
        }
      ]
    },
    {
      "cell_type": "code",
      "source": [
        "#7\n",
        "A= int(input(\"Enter any number you want \"))\n",
        "if A%5==0 or B%3==0:\n",
        "  print(\"The number is dividible by either 5 or 3\")\n",
        "else:\n",
        "  print(\"The number is not divisible by either 5 or 3\")  \n"
      ],
      "metadata": {
        "colab": {
          "base_uri": "https://localhost:8080/"
        },
        "id": "XwkGVCIBWSKQ",
        "outputId": "70fdea8d-c9bd-4e23-851d-942d99d75157"
      },
      "execution_count": null,
      "outputs": [
        {
          "output_type": "stream",
          "name": "stdout",
          "text": [
            "Enter any number you want 2\n",
            "The number is not divisible by either 5 or 3\n"
          ]
        }
      ]
    },
    {
      "cell_type": "code",
      "source": [
        "#8\n",
        "length=int(input(\"Enter value of length: \"))\n",
        "width=int(input(\"Enter the value of width: \"))\n",
        "print(f\"Area= {length*width}\")\n",
        "if length==width:\n",
        "  print(\"The given geometry is square\")\n",
        "else:\n",
        "  print(\"The given geometry is rectangle\")  "
      ],
      "metadata": {
        "colab": {
          "base_uri": "https://localhost:8080/"
        },
        "id": "IvTAA7WkWe8w",
        "outputId": "1b182634-a8df-4b04-dcfb-baf27fe31df1"
      },
      "execution_count": null,
      "outputs": [
        {
          "output_type": "stream",
          "name": "stdout",
          "text": [
            "Enter value of length: 25\n",
            "Enter the value of width: 3\n",
            "Area= 75\n",
            "The given geometry is rectangle\n"
          ]
        }
      ]
    },
    {
      "cell_type": "code",
      "source": [
        "#9\n",
        "radius_1=20\n",
        "radius_2=25\n",
        "area_1=3.14*(radius_1**2)\n",
        "area_2=3.14*(radius_2**2)\n",
        "if area_1>=area_2:\n",
        "  if area_1==area_2:\n",
        "    print(\"Given circles are equal\")\n",
        "  else:\n",
        "    print(\"circle 1 has larger area than circle 2\")\n",
        "else:\n",
        "  print(\"circle 2 has larger area than circle 1\")      \n"
      ],
      "metadata": {
        "colab": {
          "base_uri": "https://localhost:8080/"
        },
        "id": "3fMeaC7CoVs1",
        "outputId": "47169721-dd8c-41e4-cc87-c3dd235224a4"
      },
      "execution_count": null,
      "outputs": [
        {
          "output_type": "stream",
          "name": "stdout",
          "text": [
            "circle 2 has larger area than circle 1\n"
          ]
        }
      ]
    },
    {
      "cell_type": "code",
      "source": [
        "# 10\n",
        "year=int(input(\"Enter year: \"))\n",
        "if year%4==0:\n",
        "  print(f\"{year} is leap year\")\n",
        "else:\n",
        "  if year%400==0:\n",
        "    print(f\"{year} is leap year\")\n",
        "  else:\n",
        "    print(f\"{year} is not leap year\")    \n"
      ],
      "metadata": {
        "colab": {
          "base_uri": "https://localhost:8080/"
        },
        "id": "-Tdqyv_NqXya",
        "outputId": "6946cfb9-3690-49b7-c15b-833516710d2e"
      },
      "execution_count": null,
      "outputs": [
        {
          "output_type": "stream",
          "name": "stdout",
          "text": [
            "Enter year: 1800\n",
            "1800 is leap year\n"
          ]
        }
      ]
    },
    {
      "cell_type": "code",
      "source": [],
      "metadata": {
        "id": "t5lv28PKsfIQ"
      },
      "execution_count": null,
      "outputs": []
    }
  ]
}