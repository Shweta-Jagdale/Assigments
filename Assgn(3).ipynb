{
 "cells": [
  {
   "cell_type": "markdown",
   "id": "07b14869",
   "metadata": {},
   "source": [
    "1.Explain the term machine learning, and how does it work? Explain two machine learning applications in the business world. What are some of the ethical concerns that machine learning applications could raise?\n",
    "\n",
    "ANS:\n",
    "    Machine learning (ML) is a type of artificial intelligence (AI) that allows software applications to become more accurate at predicting outcomes without being explicitly programmed to do so. Machine learning algorithms use historical data as input to predict new output values.\n",
    "    Machine learning is important because it gives enterprises a view of trends in customer behavior and business operational patterns, as well as supports the development of new products. Many of today's leading companies, such as Facebook, Google and Uber, make machine learning a central part of their operations. Machine learning has become a significant competitive differentiator for many companies.\n",
    "    *Supervised learning: In this type of machine learning, data scientists supply algorithms with labeled training data and define the variables they want the algorithm to assess for correlations. Both the input and the output of the algorithm is specified.\n",
    "    *Unsupervised learning: This type of machine learning involves algorithms that train on unlabeled data. The algorithm scans through data sets looking for any meaningful connection. The data that algorithms train on as well as the predictions or recommendations they output are predetermined.\n",
    "    There are, of course, many advantages to trusting algorithms. Humanity has benefited from relying on computer algorithms to automate processes, analyze large amounts of data, and make complex decisions. However, trusting algorithms has its drawbacks. Algorithms can be subject to bias at any level of development. And since algorithms are developed and trained by humans, it’s nearly impossible to eliminate bias."
   ]
  },
  {
   "cell_type": "markdown",
   "id": "a36745c0",
   "metadata": {},
   "source": [
    "2. Describe the process of human learning:\n",
    "           i. Under the supervision of experts\n",
    "\n",
    "           ii. With the assistance of experts in an indirect manner\n",
    "\n",
    "            iii. Self-education\n",
    "\n",
    "ANS:\n",
    "    "
   ]
  },
  {
   "cell_type": "markdown",
   "id": "aca2c505",
   "metadata": {},
   "source": [
    "3. Provide a few examples of various types of machine learning.\n",
    "ANS:\n",
    "    1.Supervised Machine Learning\n",
    "    2.Unsupervised Machine Learning\n",
    "    3.Semi-Supervised Machine Learning\n",
    "    4.Reinforcement Learning\n"
   ]
  },
  {
   "cell_type": "markdown",
   "id": "49e4225f",
   "metadata": {},
   "source": [
    "4. Examine the various forms of machine learning.\n",
    "ANS:Based on the methods and way of learning, machine learning is divided into mainly four types, which are:\n",
    "1. Supervised Machine Learning\n",
    "As its name suggests, Supervised machine learning is based on supervision. It means in the supervised learning technique, we train the machines using the \"labelled\" dataset, and based on the training, the machine predicts the output. Here, the labelled data specifies that some of the inputs are already mapped to the output. More preciously, we can say; first, we train the machine with the input and corresponding output, and then we ask the machine to predict the output using the test dataset.\n",
    "The main goal of the supervised learning technique is to map the input variable(x) with the output variable(y). Some real-world applications of supervised learning are Risk Assessment, Fraud Detection, Spam filtering, etc.\n",
    "Categories of Supervised Machine Learning\n",
    "Supervised machine learning can be classified into two types of problems, which are given below:\n",
    "  Classification\n",
    "  Regression\n",
    "2. Unsupervised Machine Learning\n",
    "Unsupervised learning is different from the Supervised learning technique; as its name suggests, there is no need for supervision. It means, in unsupervised machine learning, the machine is trained using the unlabeled dataset, and the machine predicts the output without any supervision.\n",
    "In unsupervised learning, the models are trained with the data that is neither classified nor labelled, and the model acts on that data without any supervision.\n",
    "The main aim of the unsupervised learning algorithm is to group or categories the unsorted dataset according to the similarities, patterns, and differences. Machines are instructed to find the hidden patterns from the input dataset.\n",
    "Categories of Unsupervised Machine Learning\n",
    "Unsupervised Learning can be further classified into two types, which are given below:\n",
    "  Clustering\n",
    "  Association\n",
    "3. Semi-Supervised Learning\n",
    "Semi-Supervised learning is a type of Machine Learning algorithm that lies between Supervised and Unsupervised machine learning. It represents the intermediate ground between Supervised (With Labelled training data) and Unsupervised learning (with no labelled training data) algorithms and uses the combination of labelled and unlabeled datasets during the training period.\n",
    "Although Semi-supervised learning is the middle ground between supervised and unsupervised learning and operates on the data that consists of a few labels, it mostly consists of unlabeled data. As labels are costly, but for corporate purposes, they may have few labels. It is completely different from supervised and unsupervised learning as they are based on the presence & absence of labels.\n",
    "To overcome the drawbacks of supervised learning and unsupervised learning algorithms, the concept of Semi-supervised learning is introduced. The main aim of semi-supervised learning is to effectively use all the available data, rather than only labelled data like in supervised learning. Initially, similar data is clustered along with an unsupervised learning algorithm, and further, it helps to label the unlabeled data into labelled data. It is because labelled data is a comparatively more expensive acquisition than unlabeled data.\n",
    "4. Reinforcement Learning\n",
    "Reinforcement learning works on a feedback-based process, in which an AI agent (A software component) automatically explore its surrounding by hitting & trail, taking action, learning from experiences, and improving its performance. Agent gets rewarded for each good action and get punished for each bad action; hence the goal of reinforcement learning agent is to maximize the rewards.\n",
    "In reinforcement learning, there is no labelled data like supervised learning, and agents learn from their experiences only.\n",
    "The reinforcement learning process is similar to a human being; for example, a child learns various things by experiences in his day-to-day life. An example of reinforcement learning is to play a game, where the Game is the environment, moves of an agent at each step define states, and the goal of the agent is to get a high score. Agent receives feedback in terms of punishment and rewards.\n",
    "Due to its way of working, reinforcement learning is employed in different fields such as Game theory, Operation Research, Information theory, multi-agent systems.\n",
    "Categories of Reinforcement Learning\n",
    "Reinforcement learning is categorized mainly into two types of methods/algorithms:\n",
    "Positive Reinforcement Learning: Positive reinforcement learning specifies increasing the tendency that the required behaviour would occur again by adding something. It enhances the strength of the behaviour of the agent and positively impacts it.\n",
    "\n",
    "Negative Reinforcement Learning: Negative reinforcement learning works exactly opposite to the positive RL. It increases the tendency that the specific behaviour would occur again by avoiding the negative condition.\n",
    "\n"
   ]
  },
  {
   "cell_type": "markdown",
   "id": "cc196128",
   "metadata": {},
   "source": [
    "5. Can you explain what a well-posed learning problem is? Explain the main characteristics that must be present to identify a learning problem properly.\n",
    "ANS:The formal definition of Well posed learning problem is, “A computer program is said to learn from Experience E when given a task T, and some performance measure P. If it performs on T with a performance measure P, then it upgrades with experience E. \n",
    "To break it down, the three important components of a well-posed learning problem are, \n",
    "1.Task\n",
    "2.Performance Measure\n",
    "3.Experience\n"
   ]
  },
  {
   "cell_type": "markdown",
   "id": "345faa87",
   "metadata": {},
   "source": [
    "6. Is machine learning capable of solving all problems? Give a detailed explanation of your answer.\n",
    "ANS:What is the limitations of machine learning?\n",
    "Machine learning algorithms frequently have two limitations: overfitting and underfitting. Overfitting is a condition where a machine learning model performs poorly on new, unknown data because it needs to be simplified and has been trained too successfully on the training data.\n"
   ]
  },
  {
   "cell_type": "markdown",
   "id": "68a2d464",
   "metadata": {},
   "source": [
    "7. What are the various methods and technologies for solving machine learning problems? Any two of them should be defined in detail.\n",
    "ANS:Machine learning uses two types of techniques: supervised learning, which trains a model on known input and output data so that it can predict future outputs, and unsupervised learning, which finds hidden patterns or intrinsic structures in input data.\n",
    "Supervised Learning\n",
    "Supervised machine learning builds a model that makes predictions based on evidence in the presence of uncertainty. A supervised learning algorithm takes a known set of input data and known responses to the data (output) and trains a model to generate reasonable predictions for the response to new data. Use supervised learning if you have known data for the output you are trying to predict.\n",
    "\n",
    "Supervised learning uses classification and regression techniques to develop machine learning models.\n",
    "\n",
    "Classification techniques predict discrete responses—for example, whether an email is genuine or spam, or whether a tumor is cancerous or benign. Classification models classify input data into categories. Typical applications include medical imaging, speech recognition, and credit scoring.\n",
    "\n",
    "Use classification if your data can be tagged, categorized, or separated into specific groups or classes. For example, applications for hand-writing recognition use classification to recognize letters and numbers. In image processing and computer vision, unsupervised pattern recognition techniques are used for object detection and image segmentation. The most common algorithms for performing classification can be found here.\n",
    "\n",
    "Unsupervised Learning\n",
    "\n",
    "Unsupervised learning finds hidden patterns or intrinsic structures in data. It is used to draw inferences from datasets consisting of input data without labeled responses.\n",
    "\n",
    "Clustering is the most common unsupervised learning technique. It is used for exploratory data analysis to find hidden patterns or groupings in data. Applications for cluster analysis include gene sequence analysis, market research, and object recognition.\n",
    "\n",
    "For example, if a cell phone company wants to optimize the locations where they build cell phone towers, they can use machine learning to estimate the number of clusters of people relying on their towers. A phone can only talk to one tower at a time, so the team uses clustering algorithms to design the best placement of cell towers to optimize signal reception for groups, or clusters, of their customers. The most common algorithms for performing clustering can be found here."
   ]
  },
  {
   "cell_type": "markdown",
   "id": "163155a6",
   "metadata": {},
   "source": [
    "8. Can you explain the various forms of supervised learning? Explain each one with an example application.\n",
    "ANS:\n",
    "1. Regression\n",
    "In regression, a single output value is produced using training data. This value is a probabilistic interpretation, which is ascertained after considering the strength of correlation among the input variables. For example, regression can help predict the price of a house based on its locality, size, etc. \n",
    "In logistic regression, the output has discrete values based on a set of independent variables. This method can flounder when dealing with non-linear and multiple decision boundaries. Also, it is not flexible enough to capture complex relationships in datasets.\n",
    "2. Classification\n",
    "It involves grouping the data into classes.  If you are thinking of extending credit to a person, you can use classification to determine whether or not a person would be a loan defaulter. When the supervised learning algorithm labels input data into two distinct classes, it is called binary classification. Multiple classifications means categorizing data into more than two classes.\n",
    "3. Naive Bayesian Model\n",
    "The Bayesian model of classification is used for large finite datasets. It is a method of assigning class labels using a direct acyclic graph. The graph comprises one parent node and multiple children nodes. And each child node is assumed to be independent and separate from the parent. \n",
    "\n",
    "As the model for supervised learning in ML helps construct the classifiers in a simple and straightforward way, it works great with very small data sets. This model draws on common data assumptions, such as each attribute is independent. Yet having such simplification, this algorithm can easily be implemented on complex problems. \n",
    "\n",
    "4. Random Forest Model\n",
    "The random forest model is an ensemble method. It operates by constructing a multitude of decision trees and outputs a classification of the individual trees. Suppose you want to predict which undergraduate students will perform well in GMAT – a test taken for admission into graduate management programs. A random forest model would accomplish the task, given the demographic and educational factors of a set of students who have previously taken the test. \n",
    "5. Neural Networks\n",
    "This algorithm is designed to cluster raw input, recognize patterns, or interpret sensory data. Despite their multiple advantages, neural networks require significant computational resources. It can get complicated to fit a neural network when there are thousands of observations. It is also called the ‘black-box’ algorithm as interpreting the logic behind their predictions can be challenging.\n",
    "6. Support Vector Machines\n",
    "Support Vector Machine (SVM) is a supervised learning algorithm developed in the year 1990. It draws from the statistical learning theory developed by Vap Nick. \n",
    "\n",
    "The algorithm of supervised learning in ML, SVM is highly popular amongst the supervised learning models as it can be used for classification or regression. Implementation of the model works well with high-dimensional spaces, but it can also be used effectively with small data sets. SVM can also classify new observations efficiently when the algorithm is trained on a data set. SVM performs this by creating singular or multiple hyperplanes to separate the data set between the two classes. \n",
    "\n"
   ]
  },
  {
   "cell_type": "markdown",
   "id": "56a3a1e3",
   "metadata": {},
   "source": [
    "9. What is the difference between supervised and unsupervised learning? With a sample application in each region, explain the differences.\n",
    "ANS:The main distinction between the two approaches is the use of labeled datasets. To put it simply, supervised learning uses labeled input and output data, while an unsupervised learning algorithm does not.\n",
    "\n",
    "In supervised learning, the algorithm “learns” from the training dataset by iteratively making predictions on the data and adjusting for the correct answer. While supervised learning models tend to be more accurate than unsupervised learning models, they require upfront human intervention to label the data appropriately. For example, a supervised learning model can predict how long your commute will be based on the time of day, weather conditions and so on. But first, you’ll have to train it to know that rainy weather extends the driving time.\n",
    "\n",
    "Unsupervised learning models, in contrast, work on their own to discover the inherent structure of unlabeled data. Note that they still require some human intervention for validating output variables. For example, an unsupervised learning model can identify that online shoppers often purchase groups of products at the same time. However, a data analyst would need to validate that it makes sense for a recommendation engine to group baby clothes with an order of diapers, applesauce and sippy cups.\n"
   ]
  },
  {
   "cell_type": "markdown",
   "id": "e99d9a88",
   "metadata": {},
   "source": [
    "10. Describe the machine learning process in depth.\n",
    "\n",
    "a. Make brief notes on any two of the following:\n",
    "\n",
    "MATLAB is one of the most widely used programming languages.\n",
    "\n",
    "        ii. Deep learning applications in healthcare\n",
    "\n",
    "        iii. Study of the market basket\n",
    "\n",
    "         iv. Linear regression (simple)\n",
    "\n",
    "ANS:\n",
    "1. Linear Regression in Machine Learning\n",
    "Linear regression is one of the easiest and most popular Machine Learning algorithms. It is a statistical method that is used for predictive analysis. Linear regression makes predictions for continuous/real or numeric variables such as sales, salary, age, product price, etc.\n",
    "\n",
    "Linear regression algorithm shows a linear relationship between a dependent (y) and one or more independent (y) variables, hence called as linear regression. Since linear regression shows the linear relationship, which means it finds how the value of the dependent variable is changing according to the value of the independent variable.\n",
    "Mathematically, we can represent a linear regression as:\n",
    "\n",
    "y= a0+a1x+ ε\n",
    "Here,\n",
    "\n",
    "Y= Dependent Variable (Target Variable)\n",
    "X= Independent Variable (predictor Variable)\n",
    "a0= intercept of the line (Gives an additional degree of freedom)\n",
    "a1 = Linear regression coefficient (scale factor to each input value).\n",
    "ε = random error\n",
    "\n",
    "The values for x and y variables are training datasets for Linear Regression model representation.\n",
    "\n",
    "Types of Linear Regression\n",
    "Linear regression can be further divided into two types of the algorithm:\n",
    "\n",
    "Simple Linear Regression:\n",
    "If a single independent variable is used to predict the value of a numerical dependent variable, then such a Linear Regression algorithm is called Simple Linear Regression.\n",
    "Multiple Linear regression:\n",
    "If more than one independent variable is used to predict the value of a numerical dependent variable, then such a Linear Regression algorithm is called Multiple Linear Regression.\n",
    "Linear Regression Line\n",
    "A linear line showing the relationship between the dependent and independent variables is called a regression line. A regression line can show two types of relationship:\n",
    "\n",
    "Positive Linear Relationship:\n",
    "If the dependent variable increases on the Y-axis and independent variable increases on X-axis, then such a relationship is termed as a Positive linear relationship.\n",
    "Negative Linear Relationship:\n",
    "If the dependent variable decreases on the Y-axis and independent variable increases on the X-axis, then such a relationship is called a negative linear relationship.\n",
    "\n",
    "\n",
    "2. Market basket analysis\n",
    "Market basket analysis in data mining is a kind of data analytics that pinpoints the goods or things that people usually buy together. In order to comprehend consumer behavior and pinpoint product combinations that are well-liked by clients, this study is typically carried out in the retail sector. The outcomes of a market basket study may be utilized for a variety of tasks, including developing specialized marketing campaigns, enhancing product placement in stores, and enhancing inventory control.\n",
    "\n",
    "Market basket analysis is a procedure that includes gathering information about client transactions and then applying association rule learning algorithms to find patterns in the data. The findings of these algorithms, which search for pairings of goods that are commonly bought together, are presented as “association rules.”\n",
    "\n",
    "These guidelines show the chances that a consumer who purchases one product will also purchase another. The frequency, strength, and interest of the relationship are measured, respectively, by the words support, confidence, and lift, which are also used to define rules.\n",
    "\n",
    "Market basket analysis is a useful technique for retailers because it enables them to understand the linkages between various items and uncover chances to enhance sales and improve customer happiness. Retailers may make educated judgments about product placement, promotions, and price by identifying what things are often purchased together, which can lead to more revenue and enhanced consumer loyalty.\n",
    "\n",
    "\n"
   ]
  },
  {
   "cell_type": "markdown",
   "id": "17b76485",
   "metadata": {},
   "source": [
    "11. Make a comparison between:-\n",
    "\n",
    " 1. Generalization and abstraction\n",
    " ANS:\n",
    "     Abstraction aims at simplifying the description of an entity while generalization looks for common properties among these abstractions. Generalizations are clearly important and prevalent in many disciplines of study.\n",
    "      Abstraction reduces complexity by hiding irrelevant detail, generalization reduces complexity by replacing multiple entities which perform similar functions with a single construct.\n",
    "\n",
    "2. Learning that is guided and unsupervised\n",
    "ANS:\n",
    "    The main distinction between the two approaches is the use of labeled datasets. To put it simply, supervised learning uses labeled input and output data, while an unsupervised learning algorithm does not.\n",
    "\n",
    "In supervised learning, the algorithm “learns” from the training dataset by iteratively making predictions on the data and adjusting for the correct answer. While supervised learning models tend to be more accurate than unsupervised learning models, they require upfront human intervention to label the data appropriately.\n",
    "\n",
    " 3. Regression and classification\n",
    "ANS:\n",
    "    The main difference between Regression and Classification algorithms that Regression algorithms are used to predict the continuous values such as price, salary, age, etc. and Classification algorithms are used to predict/Classify the discrete values such as Male or Female, True or False, Spam or Not Spam, etc.\n",
    "\n",
    "In Regression, we try to find the best fit line, which can predict the output more accurately.\tIn Classification, we try to find the decision boundary, which can divide the dataset into different classes.\n",
    "The regression Algorithm can be further divided into Linear and Non-linear Regression.\tThe Classification algorithms can be divided into Binary Classifier and Multi-class Classifier.\n"
   ]
  },
  {
   "cell_type": "code",
   "execution_count": null,
   "id": "4998ff34",
   "metadata": {},
   "outputs": [],
   "source": []
  }
 ],
 "metadata": {
  "kernelspec": {
   "display_name": "Python 3 (ipykernel)",
   "language": "python",
   "name": "python3"
  },
  "language_info": {
   "codemirror_mode": {
    "name": "ipython",
    "version": 3
   },
   "file_extension": ".py",
   "mimetype": "text/x-python",
   "name": "python",
   "nbconvert_exporter": "python",
   "pygments_lexer": "ipython3",
   "version": "3.9.7"
  }
 },
 "nbformat": 4,
 "nbformat_minor": 5
}
