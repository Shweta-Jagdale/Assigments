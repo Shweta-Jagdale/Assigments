{
 "cells": [
  {
   "cell_type": "markdown",
   "id": "29e22f11",
   "metadata": {},
   "source": [
    "1. Add the current date to the text file today.txt as a string.\n"
   ]
  },
  {
   "cell_type": "code",
   "execution_count": 1,
   "id": "4a10be11",
   "metadata": {},
   "outputs": [
    {
     "data": {
      "text/plain": [
       "'2023-03-09'"
      ]
     },
     "execution_count": 1,
     "metadata": {},
     "output_type": "execute_result"
    }
   ],
   "source": [
    "import datetime\n",
    "from datetime import date\n",
    "now = date.today()\n",
    "date = now.isoformat()\n",
    "date"
   ]
  },
  {
   "cell_type": "code",
   "execution_count": 2,
   "id": "383f8384",
   "metadata": {},
   "outputs": [],
   "source": [
    "with open('today.txt','w') as file:\n",
    "    file.write(date)\n",
    "     "
   ]
  },
  {
   "cell_type": "markdown",
   "id": "59431921",
   "metadata": {},
   "source": [
    "2. Read the text file today.txt into the string today_string\n"
   ]
  },
  {
   "cell_type": "code",
   "execution_count": 3,
   "id": "e6519ff4",
   "metadata": {},
   "outputs": [
    {
     "data": {
      "text/plain": [
       "'2023-03-09'"
      ]
     },
     "execution_count": 3,
     "metadata": {},
     "output_type": "execute_result"
    }
   ],
   "source": [
    "with open('today.txt','r') as file:\n",
    "    today_string = file.read()\n",
    "today_string"
   ]
  },
  {
   "cell_type": "markdown",
   "id": "ded96053",
   "metadata": {},
   "source": [
    "3. Parse the date from today_string.\n"
   ]
  },
  {
   "cell_type": "code",
   "execution_count": 4,
   "id": "3da0f616",
   "metadata": {},
   "outputs": [
    {
     "data": {
      "text/plain": [
       "datetime.datetime(2023, 3, 9, 0, 0)"
      ]
     },
     "execution_count": 4,
     "metadata": {},
     "output_type": "execute_result"
    }
   ],
   "source": [
    "from datetime import datetime\n",
    "format = '%Y-%m-%d'\n",
    "datetime.strptime(today_string,format)"
   ]
  },
  {
   "cell_type": "markdown",
   "id": "bf87f8a3",
   "metadata": {},
   "source": [
    "4. List the files in your current directory\n"
   ]
  },
  {
   "cell_type": "code",
   "execution_count": 5,
   "id": "37ebb41a",
   "metadata": {},
   "outputs": [
    {
     "data": {
      "text/plain": [
       "['.anaconda',\n",
       " '.cache',\n",
       " '.conda',\n",
       " '.condarc',\n",
       " '.continuum',\n",
       " '.cufflinks',\n",
       " '.eclipse',\n",
       " '.ipynb_checkpoints',\n",
       " '.ipython',\n",
       " '.jupyter',\n",
       " '.matplotlib',\n",
       " '.ms-ad',\n",
       " '.p2',\n",
       " '.python_history',\n",
       " '.spyder-py3',\n",
       " '.vscode',\n",
       " '3D Objects',\n",
       " 'ajp2.JPG',\n",
       " 'anaconda3',\n",
       " 'AppData',\n",
       " 'Application Data',\n",
       " 'Assignment-1.ipynb',\n",
       " 'basics.ipynb',\n",
       " 'books.csv',\n",
       " 'books.db',\n",
       " 'clear.ipynb',\n",
       " 'Constructors and encapsulation.ipynb',\n",
       " 'Contacts',\n",
       " 'Cookies',\n",
       " 'Copy_of_FSDS_bootcamp_assignment_003_Oct_08-Copy1.ipynb',\n",
       " 'cs5.ipynb',\n",
       " 'CSLAB2.ipynb',\n",
       " 'CSLAB3.ipynb',\n",
       " 'CSLAB4.ipynb',\n",
       " 'Desktop',\n",
       " 'DMC.m',\n",
       " 'Documents',\n",
       " 'Downloads',\n",
       " 'eclipse',\n",
       " 'eclipse-workspace',\n",
       " 'edb_pgagent_pg14.exe',\n",
       " 'edb_psqlodbc.exe',\n",
       " 'expt1_cn.m',\n",
       " 'expt3.m',\n",
       " 'Favorites',\n",
       " 'function.ipynb',\n",
       " 'gauss.m',\n",
       " 'gauss2.m',\n",
       " 'graph.ipynb',\n",
       " 'haff.m',\n",
       " 'ineuron-Assignment(1).ipynb',\n",
       " 'ineuron_Assignment(10).ipynb',\n",
       " 'ineuron_Assignment(11).ipynb',\n",
       " 'ineuron_Assignment(12).ipynb',\n",
       " 'ineuron_Assignment(13).ipynb',\n",
       " 'ineuron_Assignment(14).ipynb',\n",
       " 'ineuron_Assignment(15).ipynb',\n",
       " 'ineuron_Assignment(16).ipynb',\n",
       " 'ineuron_Assignment(17).ipynb',\n",
       " 'ineuron_Assignment(18).ipynb',\n",
       " 'ineuron_Assignment(19).ipynb',\n",
       " 'ineuron_Assignment(2).ipynb',\n",
       " 'ineuron_Assignment(20).ipynb',\n",
       " 'ineuron_Assignment(3).ipynb',\n",
       " 'ineuron_Assignment(4).ipynb',\n",
       " 'ineuron_Assignment(5).ipynb',\n",
       " 'ineuron_Assignment(6).ipynb',\n",
       " 'ineuron_Assignment(7).ipynb',\n",
       " 'ineuron_Assignment(8).ipynb',\n",
       " 'ineuron_Assignment(9).ipynb',\n",
       " 'IntelGraphicsProfiles',\n",
       " 'Links',\n",
       " 'Local Settings',\n",
       " 'Music',\n",
       " 'My Documents',\n",
       " 'nesting.ipynb',\n",
       " 'NetHood',\n",
       " 'NTUSER.DAT',\n",
       " 'ntuser.dat.LOG1',\n",
       " 'ntuser.dat.LOG2',\n",
       " 'NTUSER.DAT{53b39e88-18c4-11ea-a811-000d3aa4692b}.TM.blf',\n",
       " 'NTUSER.DAT{53b39e88-18c4-11ea-a811-000d3aa4692b}.TMContainer00000000000000000001.regtrans-ms',\n",
       " 'NTUSER.DAT{53b39e88-18c4-11ea-a811-000d3aa4692b}.TMContainer00000000000000000002.regtrans-ms',\n",
       " 'ntuser.ini',\n",
       " 'numpy.ipynb',\n",
       " 'OneDrive',\n",
       " \"OneDrive - Society for Computer Technology & Research's\",\n",
       " 'Operators .ipynb',\n",
       " 'Pds_autocorr.m',\n",
       " 'Pictures',\n",
       " 'postgresql_14.exe',\n",
       " 'Postman',\n",
       " 'pract',\n",
       " 'pract.py',\n",
       " 'PrintHood',\n",
       " 'pycharm',\n",
       " 'QAM.m',\n",
       " 'Recent',\n",
       " 'Saved Games',\n",
       " 'scrapping.ipynb',\n",
       " 'seaborn-data',\n",
       " 'Searches',\n",
       " 'SendTo',\n",
       " 'Start Menu',\n",
       " 'stats.ipynb',\n",
       " 'string methods.ipynb',\n",
       " 'task questions part 2.ipynb',\n",
       " 'Templates',\n",
       " 'test.png',\n",
       " 'test.txt',\n",
       " 'today.txt',\n",
       " 'Untitled.ipynb',\n",
       " 'Untitled1.ipynb',\n",
       " 'Untitled2.ipynb',\n",
       " 'Untitled3.ipynb',\n",
       " 'Untitled4.ipynb',\n",
       " 'Untitled5.ipynb',\n",
       " 'Untitled6.ipynb',\n",
       " 'Videos']"
      ]
     },
     "execution_count": 5,
     "metadata": {},
     "output_type": "execute_result"
    }
   ],
   "source": [
    "import os\n",
    "os.listdir('.')"
   ]
  },
  {
   "cell_type": "code",
   "execution_count": null,
   "id": "e8322635",
   "metadata": {},
   "outputs": [],
   "source": [
    "5. Create a list of all of the files in your parent directory (minimum five files should be available).\n"
   ]
  },
  {
   "cell_type": "markdown",
   "id": "ff76df69",
   "metadata": {},
   "source": [
    "6. Use multiprocessing to create three separate processes. Make each one wait a random number of seconds between one and five, print the current time, and then exit.\n",
    "\n"
   ]
  },
  {
   "cell_type": "code",
   "execution_count": 6,
   "id": "fba15d3e",
   "metadata": {},
   "outputs": [],
   "source": [
    "import multiprocessing\n",
    "\n",
    "def printsec(seconds):\n",
    "    from datetime import datetime\n",
    "    from time import sleep\n",
    "    sleep(seconds)\n",
    "    print('wait', seconds, 'seconds, time is', datetime.utcnow())\n",
    "    \n",
    "if __name__ == '__main__':\n",
    "    import random    \n",
    "    for n in range(3):\n",
    "        seconds = random.random()\n",
    "        proc = multiprocessing.Process(target=printsec, args=(seconds,))\n",
    "        proc.start()"
   ]
  },
  {
   "cell_type": "code",
   "execution_count": 13,
   "id": "e788f0cf",
   "metadata": {},
   "outputs": [
    {
     "name": "stderr",
     "output_type": "stream",
     "text": [
      "Traceback (most recent call last):\n",
      "  File \"C:\\Users\\admin\\CSLAB2.ipynb\", line 5, in <module>\n",
      "    \"execution_count\": null,\n",
      "NameError: name 'null' is not defined\n"
     ]
    }
   ],
   "source": [
    "!python CSLAB2.ipynb"
   ]
  },
  {
   "cell_type": "markdown",
   "id": "5e5dd550",
   "metadata": {},
   "source": [
    "7. Create a date object of your day of birth.\n"
   ]
  },
  {
   "cell_type": "code",
   "execution_count": 22,
   "id": "cdb19b68",
   "metadata": {},
   "outputs": [
    {
     "data": {
      "text/plain": [
       "datetime.date(2002, 3, 6)"
      ]
     },
     "execution_count": 22,
     "metadata": {},
     "output_type": "execute_result"
    }
   ],
   "source": [
    "import datetime\n",
    "from datetime import date\n",
    "my_dob = date(2002,3,6)\n",
    "my_dob"
   ]
  },
  {
   "cell_type": "markdown",
   "id": "5445fed7",
   "metadata": {},
   "source": [
    "8. What day of the week was your day of birth?\n"
   ]
  },
  {
   "cell_type": "code",
   "execution_count": 23,
   "id": "7830b8c1",
   "metadata": {},
   "outputs": [
    {
     "data": {
      "text/plain": [
       "2"
      ]
     },
     "execution_count": 23,
     "metadata": {},
     "output_type": "execute_result"
    }
   ],
   "source": [
    "my_dob.weekday()"
   ]
  },
  {
   "cell_type": "markdown",
   "id": "836de5d3",
   "metadata": {},
   "source": [
    "9. When will you be (or when were you) 10,000 days old?\n"
   ]
  },
  {
   "cell_type": "code",
   "execution_count": 24,
   "id": "33a1cf4b",
   "metadata": {},
   "outputs": [
    {
     "data": {
      "text/plain": [
       "datetime.date(2029, 7, 22)"
      ]
     },
     "execution_count": 24,
     "metadata": {},
     "output_type": "execute_result"
    }
   ],
   "source": [
    "from datetime import timedelta\n",
    "day10000 = my_dob + timedelta(days=10000)\n",
    "day10000\n",
    "     "
   ]
  },
  {
   "cell_type": "code",
   "execution_count": null,
   "id": "f7544601",
   "metadata": {},
   "outputs": [],
   "source": []
  }
 ],
 "metadata": {
  "kernelspec": {
   "display_name": "Python 3 (ipykernel)",
   "language": "python",
   "name": "python3"
  },
  "language_info": {
   "codemirror_mode": {
    "name": "ipython",
    "version": 3
   },
   "file_extension": ".py",
   "mimetype": "text/x-python",
   "name": "python",
   "nbconvert_exporter": "python",
   "pygments_lexer": "ipython3",
   "version": "3.9.7"
  }
 },
 "nbformat": 4,
 "nbformat_minor": 5
}
