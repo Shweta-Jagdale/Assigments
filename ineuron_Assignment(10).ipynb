{
 "cells": [
  {
   "cell_type": "markdown",
   "id": "eb6a57ad",
   "metadata": {},
   "source": [
    "1. How do you distinguish between shutil.copy() and shutil.copytree()?\n",
    "ANS:The shutil.copy() function will copy a single file, while shutil.copytree() will copy an entire folder, along with all its     contents."
   ]
  },
  {
   "cell_type": "markdown",
   "id": "91b2b919",
   "metadata": {},
   "source": [
    "2. What function is used to rename files??\n",
    "ANS:shutil.move()"
   ]
  },
  {
   "cell_type": "markdown",
   "id": "597d3eeb",
   "metadata": {},
   "source": [
    "3. What is the difference between the delete functions in the send2trash and shutil modules?\n",
    "ANS:The send2trash functions will move a file or folder to the recycle bin, while shutil functions will permanently delete         files and folders."
   ]
  },
  {
   "cell_type": "markdown",
   "id": "d908c90c",
   "metadata": {},
   "source": [
    "4.ZipFile objects have a close() method just like File objects’ close() method. What ZipFile method is equivalent to File        objects’ open() method?\n",
    "ANS:The zipfile.ZipFile() function is equivalent to the open() function; the first argument is the filename, and the second         argument is the mode to open the ZIP file in (read, write, or append)."
   ]
  },
  {
   "cell_type": "markdown",
   "id": "5b804528",
   "metadata": {},
   "source": [
    "5. Create a programme that searches a folder tree for files with a certain file extension (such as .pdf or .jpg). Copy these files from whatever location they are in to a new folder.\n",
    "ANS:"
   ]
  },
  {
   "cell_type": "code",
   "execution_count": 1,
   "id": "918f9447",
   "metadata": {},
   "outputs": [
    {
     "name": "stdout",
     "output_type": "stream",
     "text": [
      "Looking in C:\\Users\\admin\\randomFolder for files with extensions of .php, .py\n"
     ]
    }
   ],
   "source": [
    "import os, shutil\n",
    "\n",
    "def selectiveCopy(folder, extensions, destFolder):\n",
    "\tfolder = os.path.abspath(folder)\n",
    "\tdestFolder = os.path.abspath(destFolder)\n",
    "\tprint('Looking in', folder, 'for files with extensions of', ', '.join(extensions))\n",
    "\tfor foldername, subfolders, filenames in os.walk(folder):\n",
    "\t\tfor filename in filenames:\n",
    "\t\t\tname, extension = os.path.splitext(filename)\n",
    "\t\t\tif extension in extensions:\n",
    "\t\t\t\tfileAbsPath = foldername + os.path.sep + filename\n",
    "\t\t\t\tprint('Coping', fileAbsPath, 'to', destFolder)\n",
    "\t\t\t\tshutil.copy(fileAbsPath, destFolder)\n",
    "\n",
    "extensions = ['.php', '.py']\n",
    "folder = 'randomFolder'\n",
    "destFolder = 'selectiveFolder'\n",
    "selectiveCopy(folder, extensions, destFolder)\n"
   ]
  },
  {
   "cell_type": "code",
   "execution_count": null,
   "id": "9dbf4e24",
   "metadata": {},
   "outputs": [],
   "source": []
  }
 ],
 "metadata": {
  "kernelspec": {
   "display_name": "Python 3 (ipykernel)",
   "language": "python",
   "name": "python3"
  },
  "language_info": {
   "codemirror_mode": {
    "name": "ipython",
    "version": 3
   },
   "file_extension": ".py",
   "mimetype": "text/x-python",
   "name": "python",
   "nbconvert_exporter": "python",
   "pygments_lexer": "ipython3",
   "version": "3.9.7"
  }
 },
 "nbformat": 4,
 "nbformat_minor": 5
}
