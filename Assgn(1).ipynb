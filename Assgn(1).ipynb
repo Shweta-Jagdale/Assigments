{
 "cells": [
  {
   "cell_type": "markdown",
   "id": "eac7b48c",
   "metadata": {},
   "source": [
    "Q1. What is the purpose of Python's OOP?\n",
    "\n",
    "ANS:It allows us to develop applications using an Object-Oriented approach. In Python, we can easily create and use classes and objects. An object-oriented paradigm is to design the program using classes and objects. \n",
    "\n"
   ]
  },
  {
   "cell_type": "markdown",
   "id": "14ebb0d7",
   "metadata": {},
   "source": [
    "Q2. Where does an inheritance search look for an attribute?\n",
    "\n",
    "ANS:An inheritance search looks for an attribute first in the instance object, then in the class the instance was created from, then in all higher superclasses, progressing from left to right (by default). \n",
    "\n"
   ]
  },
  {
   "cell_type": "markdown",
   "id": "bb95700b",
   "metadata": {},
   "source": [
    "Q3. How do you distinguish between a class object and an instance object?\n",
    "\n",
    "ANS:Class objects represent the class itself, while instance objects represent individual instances of the class. Class objects can have class-level attributes and methods that are shared among all instances of the class, while instance objects have their own set of attributes and methods that are independent of other.\n",
    "\n"
   ]
  },
  {
   "cell_type": "markdown",
   "id": "560a4d88",
   "metadata": {},
   "source": [
    "Q4. What makes the first argument in a class’s method function special?\n",
    "\n",
    "ANS:The calling process is automatic while the receiving process is not (its explicit). This is the reason the first parameter of a function in class must be the object itself.\n",
    "\n"
   ]
  },
  {
   "cell_type": "markdown",
   "id": "e56e8c86",
   "metadata": {},
   "source": [
    "Q5. What is the purpose of the __init__ method?\n",
    "\n",
    "ANS:The __init__ method lets the class initialize the object's attributes and serves no other purpose. It is only used within classes.\n",
    "\n"
   ]
  },
  {
   "cell_type": "markdown",
   "id": "8524d6be",
   "metadata": {},
   "source": [
    "Q6. What is the process for creating a class instance?\n",
    "\n",
    "ANS:To create instances of a class, you call the class using class name and pass in whatever arguments its __init__ method accepts.\n"
   ]
  },
  {
   "cell_type": "markdown",
   "id": "f44af191",
   "metadata": {},
   "source": [
    "Q7. What is the process for creating a class?\n",
    "\n",
    "ANS:Enter the class name. (Optional) To enter a short description, grade level, or class time, tap Section and enter the details."
   ]
  },
  {
   "cell_type": "markdown",
   "id": "1c714670",
   "metadata": {},
   "source": [
    "Q8. How would you define the superclasses of a class?\n",
    "\n",
    "ANS:The class from which a class inherits is called the parent or superclass. A class which inherits from a superclass is called a subclass, also called heir class or child class. Superclasses are sometimes called ancestors as well. There exists a hierarchical relationship between classes."
   ]
  },
  {
   "cell_type": "code",
   "execution_count": null,
   "id": "8fa00791",
   "metadata": {},
   "outputs": [],
   "source": []
  }
 ],
 "metadata": {
  "kernelspec": {
   "display_name": "Python 3 (ipykernel)",
   "language": "python",
   "name": "python3"
  },
  "language_info": {
   "codemirror_mode": {
    "name": "ipython",
    "version": 3
   },
   "file_extension": ".py",
   "mimetype": "text/x-python",
   "name": "python",
   "nbconvert_exporter": "python",
   "pygments_lexer": "ipython3",
   "version": "3.9.7"
  }
 },
 "nbformat": 4,
 "nbformat_minor": 5
}
