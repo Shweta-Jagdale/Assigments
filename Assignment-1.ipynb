{
 "cells": [
  {
   "cell_type": "markdown",
   "id": "dadf7571",
   "metadata": {},
   "source": [
    "# Assignment-1"
   ]
  },
  {
   "cell_type": "code",
   "execution_count": null,
   "id": "379e36f0",
   "metadata": {},
   "outputs": [],
   "source": [
    "# 1] 1. Find out all the types of error that we have encountered in our lecture and why? Also include the examples.\n",
    "\n"
   ]
  },
  {
   "cell_type": "code",
   "execution_count": 1,
   "id": "09ed0c50",
   "metadata": {},
   "outputs": [
    {
     "ename": "TypeError",
     "evalue": "can't multiply sequence by non-int of type 'str'",
     "output_type": "error",
     "traceback": [
      "\u001b[1;31m---------------------------------------------------------------------------\u001b[0m",
      "\u001b[1;31mTypeError\u001b[0m                                 Traceback (most recent call last)",
      "Input \u001b[1;32mIn [1]\u001b[0m, in \u001b[0;36m<cell line: 2>\u001b[1;34m()\u001b[0m\n\u001b[0;32m      1\u001b[0m \u001b[38;5;66;03m#type error\u001b[39;00m\n\u001b[1;32m----> 2\u001b[0m \u001b[38;5;124;43m'\u001b[39;49m\u001b[38;5;124;43m22\u001b[39;49m\u001b[38;5;124;43m'\u001b[39;49m\u001b[38;5;241;43m*\u001b[39;49m\u001b[38;5;124;43m'\u001b[39;49m\u001b[38;5;124;43m2\u001b[39;49m\u001b[38;5;124;43m'\u001b[39;49m\n",
      "\u001b[1;31mTypeError\u001b[0m: can't multiply sequence by non-int of type 'str'"
     ]
    }
   ],
   "source": [
    "\n",
    "'22'*'2'"
   ]
  },
  {
   "cell_type": "code",
   "execution_count": 3,
   "id": "f367b8f6",
   "metadata": {},
   "outputs": [],
   "source": [
    "print=\"hii\""
   ]
  },
  {
   "cell_type": "code",
   "execution_count": 4,
   "id": "0c59755e",
   "metadata": {},
   "outputs": [
    {
     "ename": "TypeError",
     "evalue": "'str' object is not callable",
     "output_type": "error",
     "traceback": [
      "\u001b[1;31m---------------------------------------------------------------------------\u001b[0m",
      "\u001b[1;31mTypeError\u001b[0m                                 Traceback (most recent call last)",
      "Input \u001b[1;32mIn [4]\u001b[0m, in \u001b[0;36m<cell line: 1>\u001b[1;34m()\u001b[0m\n\u001b[1;32m----> 1\u001b[0m \u001b[38;5;28;43mprint\u001b[39;49m\u001b[43m(\u001b[49m\u001b[38;5;124;43m\"\u001b[39;49m\u001b[38;5;124;43mhey\u001b[39;49m\u001b[38;5;124;43m\"\u001b[39;49m\u001b[43m)\u001b[49m\n",
      "\u001b[1;31mTypeError\u001b[0m: 'str' object is not callable"
     ]
    }
   ],
   "source": [
    "print(\"hey\")"
   ]
  },
  {
   "cell_type": "code",
   "execution_count": 10,
   "id": "5b8b9aa2",
   "metadata": {},
   "outputs": [],
   "source": [
    "del print\n"
   ]
  },
  {
   "cell_type": "code",
   "execution_count": 11,
   "id": "498ed69a",
   "metadata": {},
   "outputs": [
    {
     "ename": "TypeError",
     "evalue": "cannot unpack non-iterable int object",
     "output_type": "error",
     "traceback": [
      "\u001b[1;31m---------------------------------------------------------------------------\u001b[0m",
      "\u001b[1;31mTypeError\u001b[0m                                 Traceback (most recent call last)",
      "Input \u001b[1;32mIn [11]\u001b[0m, in \u001b[0;36m<cell line: 1>\u001b[1;34m()\u001b[0m\n\u001b[1;32m----> 1\u001b[0m a,b,c\u001b[38;5;241m=\u001b[39m\u001b[38;5;241m10\u001b[39m\n",
      "\u001b[1;31mTypeError\u001b[0m: cannot unpack non-iterable int object"
     ]
    }
   ],
   "source": [
    "a,b,c=10"
   ]
  },
  {
   "cell_type": "code",
   "execution_count": 12,
   "id": "7d960937",
   "metadata": {},
   "outputs": [
    {
     "name": "stdout",
     "output_type": "stream",
     "text": [
      "datatype before :<class 'str'>\n"
     ]
    },
    {
     "ename": "ValueError",
     "evalue": "invalid literal for int() with base 10: '50.5'",
     "output_type": "error",
     "traceback": [
      "\u001b[1;31m---------------------------------------------------------------------------\u001b[0m",
      "\u001b[1;31mValueError\u001b[0m                                Traceback (most recent call last)",
      "Input \u001b[1;32mIn [12]\u001b[0m, in \u001b[0;36m<cell line: 3>\u001b[1;34m()\u001b[0m\n\u001b[0;32m      1\u001b[0m A\u001b[38;5;241m=\u001b[39m\u001b[38;5;124m\"\u001b[39m\u001b[38;5;124m50.5\u001b[39m\u001b[38;5;124m\"\u001b[39m\n\u001b[0;32m      2\u001b[0m \u001b[38;5;28mprint\u001b[39m(\u001b[38;5;124mf\u001b[39m\u001b[38;5;124m\"\u001b[39m\u001b[38;5;124mdatatype before :\u001b[39m\u001b[38;5;132;01m{\u001b[39;00m\u001b[38;5;28mtype\u001b[39m(A)\u001b[38;5;132;01m}\u001b[39;00m\u001b[38;5;124m\"\u001b[39m)\n\u001b[1;32m----> 3\u001b[0m A\u001b[38;5;241m=\u001b[39m \u001b[38;5;28;43mint\u001b[39;49m\u001b[43m(\u001b[49m\u001b[43mA\u001b[49m\u001b[43m)\u001b[49m\n\u001b[0;32m      4\u001b[0m \u001b[38;5;28mprint\u001b[39m(\u001b[38;5;124mf\u001b[39m\u001b[38;5;124m\"\u001b[39m\u001b[38;5;124mdatatype after :\u001b[39m\u001b[38;5;132;01m{\u001b[39;00m\u001b[38;5;28mtype\u001b[39m(A)\u001b[38;5;132;01m}\u001b[39;00m\u001b[38;5;124m\"\u001b[39m)\n",
      "\u001b[1;31mValueError\u001b[0m: invalid literal for int() with base 10: '50.5'"
     ]
    }
   ],
   "source": [
    "A=\"50.5\"\n",
    "print(f\"datatype before :{type(A)}\")\n",
    "A= int(A)\n",
    "print(f\"datatype after :{type(A)}\")"
   ]
  },
  {
   "cell_type": "code",
   "execution_count": 13,
   "id": "08a83140",
   "metadata": {},
   "outputs": [
    {
     "name": "stdout",
     "output_type": "stream",
     "text": [
      "NAME:shweta\n",
      "CITY:pune\n",
      "year_of_birth2002\n"
     ]
    },
    {
     "ename": "TypeError",
     "evalue": "unsupported operand type(s) for -: 'int' and 'str'",
     "output_type": "error",
     "traceback": [
      "\u001b[1;31m---------------------------------------------------------------------------\u001b[0m",
      "\u001b[1;31mTypeError\u001b[0m                                 Traceback (most recent call last)",
      "Input \u001b[1;32mIn [13]\u001b[0m, in \u001b[0;36m<cell line: 5>\u001b[1;34m()\u001b[0m\n\u001b[0;32m      3\u001b[0m city\u001b[38;5;241m=\u001b[39m\u001b[38;5;28minput\u001b[39m(\u001b[38;5;124m\"\u001b[39m\u001b[38;5;124mCITY:\u001b[39m\u001b[38;5;124m\"\u001b[39m)\n\u001b[0;32m      4\u001b[0m year\u001b[38;5;241m=\u001b[39m\u001b[38;5;28minput\u001b[39m(\u001b[38;5;124m\"\u001b[39m\u001b[38;5;124myear_of_birth\u001b[39m\u001b[38;5;124m\"\u001b[39m)\n\u001b[1;32m----> 5\u001b[0m age\u001b[38;5;241m=\u001b[39m\u001b[38;5;241;43m2022\u001b[39;49m\u001b[38;5;241;43m-\u001b[39;49m\u001b[43myear\u001b[49m\n\u001b[0;32m      6\u001b[0m \u001b[38;5;28mprint\u001b[39m(\u001b[38;5;124mf\u001b[39m\u001b[38;5;124m\"\"\"\u001b[39m\u001b[38;5;124mMy name is \u001b[39m\u001b[38;5;132;01m{\u001b[39;00mname\u001b[38;5;132;01m}\u001b[39;00m\n\u001b[0;32m      7\u001b[0m \u001b[38;5;124m     I\u001b[39m\u001b[38;5;124m'\u001b[39m\u001b[38;5;124mm living in \u001b[39m\u001b[38;5;132;01m{\u001b[39;00mcity\u001b[38;5;132;01m}\u001b[39;00m\n\u001b[0;32m      8\u001b[0m \u001b[38;5;124m     I\u001b[39m\u001b[38;5;124m'\u001b[39m\u001b[38;5;124mm \u001b[39m\u001b[38;5;132;01m{\u001b[39;00mage\u001b[38;5;132;01m}\u001b[39;00m\u001b[38;5;124m years old\u001b[39m\u001b[38;5;124m\"\"\"\u001b[39m)\n",
      "\u001b[1;31mTypeError\u001b[0m: unsupported operand type(s) for -: 'int' and 'str'"
     ]
    }
   ],
   "source": [
    "# calculate age \n",
    "name= input(\"NAME:\")\n",
    "city=input(\"CITY:\")\n",
    "year=input(\"year_of_birth\")\n",
    "age=2022-year\n",
    "print(f\"\"\"My name is {name}\n",
    "     I'm living in {city}\n",
    "     I'm {age} years old\"\"\")"
   ]
  },
  {
   "cell_type": "code",
   "execution_count": 8,
   "id": "1181fe61",
   "metadata": {},
   "outputs": [],
   "source": [
    "#Take input A and B and print their sum, mul, div, square of the nos. \n"
   ]
  },
  {
   "cell_type": "code",
   "execution_count": 15,
   "id": "170a8156",
   "metadata": {},
   "outputs": [
    {
     "name": "stdout",
     "output_type": "stream",
     "text": [
      "Enter the value of A 5\n",
      "Enter the value of B 6\n",
      "Sum = 11\n",
      "Multiplication = 30\n",
      "Division = 0.8333333333333334\n",
      "Square of nos : 25 and 36\n"
     ]
    }
   ],
   "source": [
    "A= int(input(\"Enter the value of A \"))\n",
    "B= int(input(\"Enter the value of B \"))\n",
    "print(f\"Sum = {A+B}\")\n",
    "print(f\"Multiplication = {A*B}\")\n",
    "print(f\"Division = {A/B}\")\n",
    "print(f\"Square of nos : {A*A} and {B*B}\")"
   ]
  },
  {
   "cell_type": "markdown",
   "id": "08719c91",
   "metadata": {},
   "source": [
    "#3. How many reserve keywords are there in python and why we should not use them as a variable name?\n",
    "ANS: There are total 33 reserve keywords in python. these words are reserved and used for defining the syntax and structure of python programming. "
   ]
  },
  {
   "cell_type": "code",
   "execution_count": 16,
   "id": "b55ffba1",
   "metadata": {},
   "outputs": [
    {
     "name": "stdout",
     "output_type": "stream",
     "text": [
      "Enter your first nameshweta\n",
      "Enter your last namejagdale\n",
      "Email-id : jagdale.shweta@gmail.com\n"
     ]
    }
   ],
   "source": [
    "# 4.Create email ids with the user inputs. in the following format\n",
    "\n",
    "#lastname.firstname@gmail.com\n",
    "\n",
    "\n",
    "firstname=input(\"Enter your first name\")\n",
    "lastname=input(\"Enter your last name\")\n",
    "print(f\"Email-id : {lastname}.{firstname}@gmail.com\")"
   ]
  },
  {
   "cell_type": "code",
   "execution_count": 19,
   "id": "faa7bac8",
   "metadata": {},
   "outputs": [
    {
     "name": "stdout",
     "output_type": "stream",
     "text": [
      "Hii I'm Sunny\n",
      "My address is 22/3\n",
      "I earn 20$ daily.\n"
     ]
    }
   ],
   "source": [
    "#5. Try to print the following lines -\n",
    "#Hi I'm Sunny\n",
    "#My address is 22\\3\n",
    "#I earn 20$ daily.\n",
    "\n",
    "print(\"\"\"Hii I'm Sunny\n",
    "My address is 22/3\n",
    "I earn 20$ daily.\"\"\")"
   ]
  },
  {
   "cell_type": "code",
   "execution_count": 20,
   "id": "5ee278d2",
   "metadata": {},
   "outputs": [
    {
     "name": "stdout",
     "output_type": "stream",
     "text": [
      "Enter your name: shweta\n",
      "Enter your address: pune\n",
      "Enter your date_of_birth: 6\n",
      "INFORMATION FORM\n",
      "Name         :shweta\n",
      "Address      :pune\n",
      "Date of birth:6\n",
      "Email-ID     :shweta.6@gmail.com\n"
     ]
    }
   ],
   "source": [
    "#6.Take user input (name, address, date of birth etc) to fill a form for your college form and print their email IDs.\n",
    "\n",
    "name=input(\"Enter your name: \")\n",
    "address=input(\"Enter your address: \")\n",
    "date_of_birth= int(input(\"Enter your date_of_birth: \"))\n",
    "print(f\"\"\"INFORMATION FORM\n",
    "Name         :{name}\n",
    "Address      :{address}\n",
    "Date of birth:{date_of_birth}\n",
    "Email-ID     :{name}.{date_of_birth}@gmail.com\"\"\")"
   ]
  },
  {
   "cell_type": "code",
   "execution_count": 29,
   "id": "d5e1c2ab",
   "metadata": {},
   "outputs": [
    {
     "name": "stdout",
     "output_type": "stream",
     "text": [
      "Value before conversion:22.4     Datatype:<class 'float'>\n",
      "Value after conversion:22      Datatype:<class 'int'>\n",
      "\n",
      "\n",
      "Value before conversion:22      Datatype:<class 'int'>\n",
      "Value after conversion:(22+0j)     Datatype:<class 'complex'>\n"
     ]
    }
   ],
   "source": [
    "#7.Convert the following\n",
    "\n",
    "#\"22.4\" into integer\n",
    "\n",
    "#\"22\" into complex no.\n",
    "\n",
    "A=22.4 \n",
    "print(f\"Value before conversion:{A}     Datatype:{type(A)}\")\n",
    "A=int(A)\n",
    "print(f\"Value after conversion:{A}      Datatype:{type(A)}\")\n",
    "\n",
    "print(\"\\n\")\n",
    "\n",
    "B=22\n",
    "print(f\"Value before conversion:{B}      Datatype:{type(B)}\")\n",
    "B=complex(B)\n",
    "print(f\"Value after conversion:{B}     Datatype:{type(B)}\")"
   ]
  },
  {
   "cell_type": "code",
   "execution_count": null,
   "id": "822318c9",
   "metadata": {},
   "outputs": [],
   "source": []
  }
 ],
 "metadata": {
  "kernelspec": {
   "display_name": "Python 3 (ipykernel)",
   "language": "python",
   "name": "python3"
  },
  "language_info": {
   "codemirror_mode": {
    "name": "ipython",
    "version": 3
   },
   "file_extension": ".py",
   "mimetype": "text/x-python",
   "name": "python",
   "nbconvert_exporter": "python",
   "pygments_lexer": "ipython3",
   "version": "3.9.7"
  }
 },
 "nbformat": 4,
 "nbformat_minor": 5
}
