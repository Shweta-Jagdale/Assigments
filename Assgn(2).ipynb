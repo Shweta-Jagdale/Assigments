{
 "cells": [
  {
   "cell_type": "markdown",
   "id": "018a8571",
   "metadata": {},
   "source": [
    "Q1. What is the relationship between classes and modules?\n",
    "\n",
    "ANS:A class is more of a unit, and a module is essentially a loose collection of stuff like functions, variables, or even classes. In a public module, classes in the project have access to the functions and variables of the module. You don't have to specify the module name to address one.\n",
    "\n"
   ]
  },
  {
   "cell_type": "markdown",
   "id": "390ebfe6",
   "metadata": {},
   "source": [
    "Q2. How do you make instances and classes?\n",
    "\n",
    "ANS:To create instances of a class, you call the class using class name and pass in whatever arguments its __init__ method accepts.\n",
    "\n"
   ]
  },
  {
   "cell_type": "markdown",
   "id": "e4fdf9e7",
   "metadata": {},
   "source": [
    "Q3. Where and how should be class attributes created?\n",
    "\n",
    "ANS:Class attributes are the variables defined directly in the class that are shared by all objects of the class. Instance attributes are attributes or properties attached to an instance of a class. Instance attributes are defined in the constructor. Defined directly inside a class.\n",
    "\n"
   ]
  },
  {
   "cell_type": "markdown",
   "id": "61074d38",
   "metadata": {},
   "source": [
    "Q4. Where and how are instance attributes created?\n",
    "\n",
    "ANS:Instance attributes are defined in the constructor. Defined directly inside a class. Defined inside a constructor using the self parameter. Shared across all objects.\n"
   ]
  },
  {
   "cell_type": "markdown",
   "id": "35e98d82",
   "metadata": {},
   "source": [
    "Q5. What does the term \"self\" in a Python class mean?\n",
    "\n",
    "ANS:The self parameter is a reference to the current instance of the class, and is used to access variables that belongs to the class.\n",
    "\n"
   ]
  },
  {
   "cell_type": "markdown",
   "id": "e572867f",
   "metadata": {},
   "source": [
    "Q6. How does a Python class handle operator overloading?\n",
    "\n",
    "ANS: Python provides some special function or magic function that is automatically invoked when it is associated with that particular operator. For example, when we use + operator, the magic method __add__ is automatically invoked in which the operation for + operator is defined.\n",
    "\n"
   ]
  },
  {
   "cell_type": "markdown",
   "id": "9168e10f",
   "metadata": {},
   "source": [
    "Q7. When do you consider allowing operator overloading of your classes?\n",
    "\n",
    "ANS:Ensures that objects of a class behave consistently with built-in types and other user-defined types.\n",
    "\n"
   ]
  },
  {
   "cell_type": "markdown",
   "id": "8c71b5f1",
   "metadata": {},
   "source": [
    "Q8. What is the most popular form of operator overloading?\n",
    "\n",
    "ANS:The most frequent instance is the adding up operator '+', where it can be used for the usual addition and also for combining two different strings.\n"
   ]
  },
  {
   "cell_type": "markdown",
   "id": "8f85b93c",
   "metadata": {},
   "source": [
    "Q9. What are the two most important concepts to grasp in order to comprehend Python OOP code?\n",
    "\n",
    "ANS:Both inheritance and polymorphism are fundamental concepts of object oriented programming."
   ]
  }
 ],
 "metadata": {
  "kernelspec": {
   "display_name": "Python 3 (ipykernel)",
   "language": "python",
   "name": "python3"
  },
  "language_info": {
   "codemirror_mode": {
    "name": "ipython",
    "version": 3
   },
   "file_extension": ".py",
   "mimetype": "text/x-python",
   "name": "python",
   "nbconvert_exporter": "python",
   "pygments_lexer": "ipython3",
   "version": "3.9.7"
  }
 },
 "nbformat": 4,
 "nbformat_minor": 5
}
