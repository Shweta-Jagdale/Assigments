{
 "cells": [
  {
   "cell_type": "markdown",
   "id": "4824bceb",
   "metadata": {},
   "source": [
    "1. In the below elements which of them are values or an expression? eg:- values can be integer or string and expressions will be mathematical operators.\n",
    "* \n",
    "'hello' - value\n",
    "-87.8   - value\n",
    "-       - expression\n",
    "/       - expression\n",
    "+       - expression\n",
    "6       - value"
   ]
  },
  {
   "cell_type": "markdown",
   "id": "c032b4ac",
   "metadata": {},
   "source": [
    "2. What is the difference between string and variable?\n",
    "ANS- String is a data or information. It is basically any word or name which is used as a data.\n",
    "     While variable is a symbol which is used to store the data.\n",
    "     For example:\n",
    "     a=\"shweta\"\n",
    "     here in this case a is a variable and shweta is a string."
   ]
  },
  {
   "cell_type": "markdown",
   "id": "aeed6bbb",
   "metadata": {},
   "source": [
    "3. Describe three different data types.\n",
    "ANS- \n",
    "    \n",
    "    1)Integer:\n",
    "      It contains all positive and negative numbers i.e whole numbers.In python it does not have any limit to how long the           integer value can be.\n",
    "      Example- 852 , 9, 214 etc\n",
    "    \n",
    "    2)Float:\n",
    "     This value is represented by float class. It is a real number with floating point representation. It is specified by a          decimal point. Optionally, the character e or E followed by a positive or negative integer may be appended to specify          scientific notation.\n",
    "     Example\n",
    "     \n",
    "    3)String:\n",
    "      A string is a collection of one or more characters put in a single quote, double-quote or triple quote. In python there         is no character data type, a character is a string of length one. It is represented by str class."
   ]
  },
  {
   "cell_type": "markdown",
   "id": "36d90438",
   "metadata": {},
   "source": [
    "4. What is an expression made up of? What do all expressions do?\n",
    "ANS- An expression is a combination of operators and operands that is interpreted to produce some other value.                      Example:\n",
    "     a= 56+956  \n",
    "     OR\n",
    "     x= 56\n",
    "     y=63\n",
    "     c=x*y"
   ]
  },
  {
   "cell_type": "markdown",
   "id": "e8ea0ed8",
   "metadata": {},
   "source": [
    "5. This assignment statements, like spam = 10. What is the difference between an expression and a statement?\n",
    "ANS-An expression is a statement that returns a value. So if it can appear on the right side of an assignment, or as a             parameter to a method call, it is an expression.\n",
    "\n",
    "    "
   ]
  },
  {
   "cell_type": "code",
   "execution_count": 1,
   "id": "523e779f",
   "metadata": {},
   "outputs": [
    {
     "data": {
      "text/plain": [
       "22"
      ]
     },
     "execution_count": 1,
     "metadata": {},
     "output_type": "execute_result"
    }
   ],
   "source": [
    "#After running the following code, what does the variable bacon contain?\n",
    "bacon = 22\n",
    "bacon + 1\n",
    "bacon\n"
   ]
  },
  {
   "cell_type": "code",
   "execution_count": 2,
   "id": "b1ef00d0",
   "metadata": {},
   "outputs": [
    {
     "data": {
      "text/plain": [
       "'spamspamspam'"
      ]
     },
     "execution_count": 2,
     "metadata": {},
     "output_type": "execute_result"
    }
   ],
   "source": [
    "#7. What should the values of the following two terms be?\n",
    "'spam' + 'spamspam'\n",
    "\n"
   ]
  },
  {
   "cell_type": "code",
   "execution_count": 3,
   "id": "a2df3bf1",
   "metadata": {},
   "outputs": [
    {
     "data": {
      "text/plain": [
       "'spamspamspam'"
      ]
     },
     "execution_count": 3,
     "metadata": {},
     "output_type": "execute_result"
    }
   ],
   "source": [
    "'spam' * 3"
   ]
  },
  {
   "cell_type": "markdown",
   "id": "6d671fc9",
   "metadata": {},
   "source": [
    "8. Why is eggs a valid variable name while 100 is invalid?\n",
    "ANS- In python variable should start with alphabet and not with any digit. It can consist of digits but should start with            alphabet only."
   ]
  },
  {
   "cell_type": "markdown",
   "id": "43748e1d",
   "metadata": {},
   "source": [
    "9. What three functions can be used to get the integer, floating-point number, or string version of a value?\n",
    "ANS- Integer- int()\n",
    "     Float  - float()\n",
    "     String - str()"
   ]
  },
  {
   "cell_type": "markdown",
   "id": "a2b5ebca",
   "metadata": {},
   "source": [
    "10. Why does this expression cause an error? How can you fix it?\n",
    "'I have eaten ' + 99 + ' burritos.'\n",
    "\n",
    "ANS- This expression cases error because we can concatenate string values to the string and not the integer.\n",
    "     we can fix this error by writting the expression as 'I have eaten ' + \"99\"  +' burritos.' "
   ]
  },
  {
   "cell_type": "code",
   "execution_count": 6,
   "id": "58fa54c5",
   "metadata": {},
   "outputs": [
    {
     "data": {
      "text/plain": [
       "'I have eaten 99 burritos.'"
      ]
     },
     "execution_count": 6,
     "metadata": {},
     "output_type": "execute_result"
    }
   ],
   "source": [
    "'I have eaten ' + \"99\"  +' burritos.'"
   ]
  },
  {
   "cell_type": "code",
   "execution_count": null,
   "id": "06aa5e80",
   "metadata": {},
   "outputs": [],
   "source": []
  }
 ],
 "metadata": {
  "kernelspec": {
   "display_name": "Python 3 (ipykernel)",
   "language": "python",
   "name": "python3"
  },
  "language_info": {
   "codemirror_mode": {
    "name": "ipython",
    "version": 3
   },
   "file_extension": ".py",
   "mimetype": "text/x-python",
   "name": "python",
   "nbconvert_exporter": "python",
   "pygments_lexer": "ipython3",
   "version": "3.9.7"
  }
 },
 "nbformat": 4,
 "nbformat_minor": 5
}
