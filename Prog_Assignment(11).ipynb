{
 "cells": [
  {
   "cell_type": "markdown",
   "id": "e633e8e5",
   "metadata": {},
   "source": [
    "1.\tWrite a Python program to find words which are greater than given length k?\n"
   ]
  },
  {
   "cell_type": "code",
   "execution_count": 8,
   "id": "3ce2e5aa",
   "metadata": {},
   "outputs": [
    {
     "name": "stdout",
     "output_type": "stream",
     "text": [
      "['Shweta', 'here']\n"
     ]
    }
   ],
   "source": [
    "def string_k(k, str):\n",
    "    string = []\n",
    "\n",
    "    text = str.split(\" \")\n",
    "    for x in text:\n",
    "        if len(x) > k:\n",
    "            \n",
    "            string.append(x)\n",
    "\n",
    "    return string\n",
    "k = 3\n",
    "str = \"Hii Shweta here\"\n",
    "print(string_k(k, str))\n"
   ]
  },
  {
   "cell_type": "markdown",
   "id": "b94aff19",
   "metadata": {},
   "source": [
    "2.\tWrite a Python program for removing i-th character from a string?\n"
   ]
  },
  {
   "cell_type": "code",
   "execution_count": 9,
   "id": "9636107c",
   "metadata": {},
   "outputs": [
    {
     "name": "stdout",
     "output_type": "stream",
     "text": [
      "Shwta\n"
     ]
    }
   ],
   "source": [
    "def remove(string, i):\n",
    "\ta = string[: i]\n",
    "\tb = string[i + 1:]\n",
    "\treturn a + b\n",
    "if __name__ == '__main__':\n",
    "\n",
    "\tstring = \"Shweta\"\n",
    "\ti = 3\n",
    "\tprint(remove(string, i))\n"
   ]
  },
  {
   "cell_type": "markdown",
   "id": "13daa07c",
   "metadata": {},
   "source": [
    "3.\tWrite a Python program to split and join a string?\n"
   ]
  },
  {
   "cell_type": "code",
   "execution_count": 10,
   "id": "f4b3cee2",
   "metadata": {},
   "outputs": [
    {
     "name": "stdout",
     "output_type": "stream",
     "text": [
      "['Lots', 'of', 'Work']\n",
      "Lots-of-Work\n"
     ]
    }
   ],
   "source": [
    "def split_string(string):\n",
    "\tlist_string = string.split(' ')\n",
    "\t\n",
    "\treturn list_string\n",
    "\n",
    "def join_string(list_string):\n",
    "\tstring = '-'.join(list_string)\n",
    "\t\n",
    "\treturn string\n",
    "if __name__ == '__main__':\n",
    "\tstring = 'Lots of Work'\n",
    "\tlist_string = split_string(string)\n",
    "\tprint(list_string)\n",
    "\tnew_string = join_string(list_string)\n",
    "\tprint(new_string)\n"
   ]
  },
  {
   "cell_type": "markdown",
   "id": "eec7d46c",
   "metadata": {},
   "source": [
    "4.\tWrite a Python to check if a given string is binary string or not?\n"
   ]
  },
  {
   "cell_type": "code",
   "execution_count": 11,
   "id": "7e8ac219",
   "metadata": {},
   "outputs": [
    {
     "name": "stdout",
     "output_type": "stream",
     "text": [
      "Yes\n"
     ]
    }
   ],
   "source": [
    "def check(string):\n",
    "\tp = set(string)\n",
    "\ts = {'0', '1'}\n",
    "\tif s == p or p == {'0'} or p == {'1'}:\n",
    "\t\tprint(\"Yes\")\n",
    "\telse:\n",
    "\t\tprint(\"No\")\n",
    "if __name__ == \"__main__\":\n",
    "\n",
    "\tstring = \"101010000111\"\n",
    "\tcheck(string)\n"
   ]
  },
  {
   "cell_type": "markdown",
   "id": "cf6bb7bc",
   "metadata": {},
   "source": [
    "5.\tWrite a Python program to find uncommon words from two Strings?\n"
   ]
  },
  {
   "cell_type": "code",
   "execution_count": 13,
   "id": "62db4b60",
   "metadata": {},
   "outputs": [
    {
     "name": "stdout",
     "output_type": "stream",
     "text": [
      "['Hello....', \"I'm\"]\n"
     ]
    }
   ],
   "source": [
    "def UncommonWords(A, B):\n",
    "\tcount = {}\n",
    "\tfor word in A.split():\n",
    "\t\tcount[word] = count.get(word, 0) + 1\n",
    "\tfor word in B.split():\n",
    "\t\tcount[word] = count.get(word, 0) + 1\n",
    "\treturn [word for word in count if count[word] == 1]\n",
    "A = \"Shweta Jagdale\"\n",
    "B = \"Hello.... I'm Shweta Jagdale\"\n",
    "print(UncommonWords(A, B))\n"
   ]
  },
  {
   "cell_type": "markdown",
   "id": "692fb9a6",
   "metadata": {},
   "source": [
    "6.\tWrite a Python to find all duplicate characters in string?\n"
   ]
  },
  {
   "cell_type": "code",
   "execution_count": 15,
   "id": "441705f7",
   "metadata": {},
   "outputs": [
    {
     "name": "stdout",
     "output_type": "stream",
     "text": [
      "['r', 'g', 'm']\n"
     ]
    }
   ],
   "source": [
    "def duplicate_characters(string):\n",
    "\tchars = {}\n",
    "\tfor char in string:\n",
    "\t\tif char not in chars:\n",
    "\t\t\tchars[char] = 1\n",
    "\t\telse:\n",
    "\t\t\tchars[char] += 1\n",
    "\tduplicates = []\n",
    "\tfor char, count in chars.items():\n",
    "\t\tif count > 1:\n",
    "\t\t\tduplicates.append(char)\n",
    "\n",
    "\treturn duplicates\n",
    "print(duplicate_characters(\"Programming\"))\n"
   ]
  },
  {
   "cell_type": "markdown",
   "id": "a8e1412d",
   "metadata": {},
   "source": [
    "7.\tWrite a Python Program to check if a string contains any special character?\n"
   ]
  },
  {
   "cell_type": "code",
   "execution_count": 16,
   "id": "13d0298e",
   "metadata": {},
   "outputs": [
    {
     "name": "stdout",
     "output_type": "stream",
     "text": [
      "String is not accepted.\n"
     ]
    }
   ],
   "source": [
    "import re\n",
    "def run(string):\n",
    "\tregex = re.compile('[@_!#$%^&*()<>?/\\|}{~:]')\n",
    "\tif(regex.search(string) == None):\n",
    "\t\tprint(\"String is accepted\")\n",
    "\t\t\n",
    "\telse:\n",
    "\t\tprint(\"String is not accepted.\")\n",
    "if __name__ == '__main__' :\n",
    "\tstring = \"Lambada@7812\"\n",
    "\trun(string)\n"
   ]
  },
  {
   "cell_type": "code",
   "execution_count": null,
   "id": "73d4cfe5",
   "metadata": {},
   "outputs": [],
   "source": []
  }
 ],
 "metadata": {
  "kernelspec": {
   "display_name": "Python 3 (ipykernel)",
   "language": "python",
   "name": "python3"
  },
  "language_info": {
   "codemirror_mode": {
    "name": "ipython",
    "version": 3
   },
   "file_extension": ".py",
   "mimetype": "text/x-python",
   "name": "python",
   "nbconvert_exporter": "python",
   "pygments_lexer": "ipython3",
   "version": "3.9.7"
  }
 },
 "nbformat": 4,
 "nbformat_minor": 5
}
