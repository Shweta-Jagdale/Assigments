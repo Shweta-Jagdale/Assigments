{
 "cells": [
  {
   "cell_type": "markdown",
   "id": "9c0b6901",
   "metadata": {},
   "source": [
    "1.What are the two values of the Boolean data type? How do you write them?\n",
    "ANS- Two values of the  Boolean datatype are True and False.\n",
    "     "
   ]
  },
  {
   "cell_type": "code",
   "execution_count": 1,
   "id": "74a7fccf",
   "metadata": {},
   "outputs": [
    {
     "data": {
      "text/plain": [
       "False"
      ]
     },
     "execution_count": 1,
     "metadata": {},
     "output_type": "execute_result"
    }
   ],
   "source": [
    "#Example\n",
    "a=0\n",
    "b=9\n",
    "a==b"
   ]
  },
  {
   "cell_type": "markdown",
   "id": "d1412746",
   "metadata": {},
   "source": [
    "2. What are the three different types of Boolean operators?\n",
    "ANS- Boolean operators:\n",
    "     1) AND\n",
    "     2) OR\n",
    "     3) NOT"
   ]
  },
  {
   "cell_type": "markdown",
   "id": "3deccd9f",
   "metadata": {},
   "source": [
    "3. Make a list of each Boolean operator's truth tables (i.e. every possible combination of Boolean values for the operator and what it evaluate ).\n",
    "ANS:\n",
    "    AND Truth table:\n",
    "    x   y    output\n",
    "    0   0      0\n",
    "    0   1      0\n",
    "    1   0      0\n",
    "    1   1      1\n",
    "    \n",
    "    OR Truth table:\n",
    "    x   y    output\n",
    "    0   0      0\n",
    "    0   1      1\n",
    "    1   0      1\n",
    "    1   1      1\n",
    "    \n",
    "    NOT Truth table:\n",
    "    x       output\n",
    "    1         0\n",
    "    0         1"
   ]
  },
  {
   "cell_type": "markdown",
   "id": "bf09e6ed",
   "metadata": {},
   "source": [
    "4. What are the values of the following expressions?"
   ]
  },
  {
   "cell_type": "code",
   "execution_count": 2,
   "id": "fc90ab63",
   "metadata": {},
   "outputs": [
    {
     "data": {
      "text/plain": [
       "False"
      ]
     },
     "execution_count": 2,
     "metadata": {},
     "output_type": "execute_result"
    }
   ],
   "source": [
    "(5 > 4) and (3 == 5)\n"
   ]
  },
  {
   "cell_type": "code",
   "execution_count": 3,
   "id": "9ce53e7b",
   "metadata": {},
   "outputs": [
    {
     "data": {
      "text/plain": [
       "False"
      ]
     },
     "execution_count": 3,
     "metadata": {},
     "output_type": "execute_result"
    }
   ],
   "source": [
    "not (5 > 4)\n"
   ]
  },
  {
   "cell_type": "code",
   "execution_count": 4,
   "id": "10603a61",
   "metadata": {},
   "outputs": [
    {
     "data": {
      "text/plain": [
       "True"
      ]
     },
     "execution_count": 4,
     "metadata": {},
     "output_type": "execute_result"
    }
   ],
   "source": [
    "(5 > 4) or (3 == 5)\n"
   ]
  },
  {
   "cell_type": "code",
   "execution_count": 5,
   "id": "67c2f485",
   "metadata": {},
   "outputs": [
    {
     "data": {
      "text/plain": [
       "False"
      ]
     },
     "execution_count": 5,
     "metadata": {},
     "output_type": "execute_result"
    }
   ],
   "source": [
    "not ((5 > 4) or (3 == 5))\n"
   ]
  },
  {
   "cell_type": "code",
   "execution_count": 6,
   "id": "ea17bd1c",
   "metadata": {},
   "outputs": [
    {
     "data": {
      "text/plain": [
       "False"
      ]
     },
     "execution_count": 6,
     "metadata": {},
     "output_type": "execute_result"
    }
   ],
   "source": [
    "(True and True) and (True == False)"
   ]
  },
  {
   "cell_type": "code",
   "execution_count": 7,
   "id": "0ff33c82",
   "metadata": {},
   "outputs": [
    {
     "data": {
      "text/plain": [
       "True"
      ]
     },
     "execution_count": 7,
     "metadata": {},
     "output_type": "execute_result"
    }
   ],
   "source": [
    "(not False) or (not True)"
   ]
  },
  {
   "cell_type": "markdown",
   "id": "1e77b296",
   "metadata": {},
   "source": [
    "5. What are the six comparison operators?\n",
    "ANS: Comparison operators:\n",
    "     1) ==\n",
    "     2) <=\n",
    "     3) >=\n",
    "     4) !=\n",
    "     5) <\n",
    "     6) >\n",
    "     \n"
   ]
  },
  {
   "cell_type": "markdown",
   "id": "365ce4a3",
   "metadata": {},
   "source": [
    "6. How do you tell the difference between the equal to and assignment operators?Describe a condition and when you would use one.\n",
    "ANS:Equal to operator is denoted by == and assignment operator is denoted by =.\n",
    "    Equal to operator = is used to compare the two values while assignment operator is used to assign any value to the variable\n",
    "    "
   ]
  },
  {
   "cell_type": "code",
   "execution_count": 8,
   "id": "fdfb4473",
   "metadata": {},
   "outputs": [
    {
     "name": "stdout",
     "output_type": "stream",
     "text": [
      "a and b are not equal\n"
     ]
    }
   ],
   "source": [
    "# Example\n",
    "a=10         # assignment operator\n",
    "b=5          # assignment operator\n",
    "if a==b:     # equal to operator\n",
    "    print(\"a and b are equal\")\n",
    "else:\n",
    "    print(\"a and b are not equal\")"
   ]
  },
  {
   "cell_type": "markdown",
   "id": "f2f82018",
   "metadata": {},
   "source": [
    "7. Identify the three blocks in this code:\n"
   ]
  },
  {
   "cell_type": "code",
   "execution_count": 9,
   "id": "278f24a3",
   "metadata": {},
   "outputs": [
    {
     "name": "stdout",
     "output_type": "stream",
     "text": [
      "ham\n",
      "spam\n",
      "spam\n"
     ]
    }
   ],
   "source": [
    "spam = 0\n",
    "if spam == 10:\n",
    "    print('eggs')\n",
    "if spam > 5:\n",
    "    print('bacon')\n",
    "else:\n",
    "    print('ham')\n",
    "    print('spam')\n",
    "    print('spam')\n"
   ]
  },
  {
   "cell_type": "markdown",
   "id": "0ee9cde9",
   "metadata": {},
   "source": [
    "8. Write code that prints Hello if 1 is stored in spam, prints Howdy if 2 is stored in spam, and prints Greetings! if anything else is stored in spam."
   ]
  },
  {
   "cell_type": "code",
   "execution_count": 10,
   "id": "d6d7fecd",
   "metadata": {},
   "outputs": [
    {
     "name": "stdout",
     "output_type": "stream",
     "text": [
      "Enter the number2\n",
      "Howdy\n"
     ]
    }
   ],
   "source": [
    "spam=int(input(\"Enter the number\"))\n",
    "if spam==1:\n",
    "    print(\"Hello\")\n",
    "if spam==2:\n",
    "    print(\"Howdy\")\n",
    "else:\n",
    "    print(\"Greetings!\")"
   ]
  },
  {
   "cell_type": "markdown",
   "id": "e8294f9e",
   "metadata": {},
   "source": [
    "9.If your programme is stuck in an endless loop, what keys you’ll press?\n",
    "ANS- ctrl+c"
   ]
  },
  {
   "cell_type": "markdown",
   "id": "09415e91",
   "metadata": {},
   "source": [
    "10. How can you tell the difference between break and continue?"
   ]
  },
  {
   "cell_type": "code",
   "execution_count": 16,
   "id": "708aaf31",
   "metadata": {},
   "outputs": [
    {
     "name": "stdout",
     "output_type": "stream",
     "text": [
      "0\n",
      "1\n",
      "2\n",
      "3\n",
      "4\n",
      "breaked\n",
      "0\n",
      "1\n",
      "2\n",
      "3\n",
      "4\n",
      "5\n",
      "6\n",
      "7\n",
      "8\n",
      "9\n",
      "Continued\n"
     ]
    }
   ],
   "source": [
    "#Example           \n",
    "for i in range(10):     # Use of break\n",
    "    if i==5:\n",
    "        break\n",
    "    print(i)\n",
    "print(\"breaked\")\n",
    "b=7\n",
    "for i in range(10):\n",
    "    if b==7:\n",
    "        print(i)\n",
    "        continue\n",
    "print(\"Continued\")"
   ]
  },
  {
   "cell_type": "markdown",
   "id": "25f24e58",
   "metadata": {},
   "source": [
    "11. In a for loop, what is the difference between range(10), range(0, 10), and range(0, 10, 1)?"
   ]
  },
  {
   "cell_type": "code",
   "execution_count": 18,
   "id": "05bd1396",
   "metadata": {},
   "outputs": [
    {
     "name": "stdout",
     "output_type": "stream",
     "text": [
      "0\n",
      "1\n",
      "2\n",
      "3\n",
      "4\n",
      "5\n",
      "6\n",
      "7\n",
      "8\n",
      "9\n"
     ]
    }
   ],
   "source": [
    "for i in range(10):\n",
    "    print(i)\n",
    "     "
   ]
  },
  {
   "cell_type": "code",
   "execution_count": 19,
   "id": "734d7733",
   "metadata": {},
   "outputs": [
    {
     "name": "stdout",
     "output_type": "stream",
     "text": [
      "0\n",
      "1\n",
      "2\n",
      "3\n",
      "4\n",
      "5\n",
      "6\n",
      "7\n",
      "8\n",
      "9\n"
     ]
    }
   ],
   "source": [
    "for i in range(0,10):\n",
    "    print(i)\n",
    "     "
   ]
  },
  {
   "cell_type": "code",
   "execution_count": 20,
   "id": "c9010f45",
   "metadata": {},
   "outputs": [
    {
     "name": "stdout",
     "output_type": "stream",
     "text": [
      "0\n",
      "1\n",
      "2\n",
      "3\n",
      "4\n",
      "5\n",
      "6\n",
      "7\n",
      "8\n",
      "9\n"
     ]
    }
   ],
   "source": [
    "for i in range(0,10,1):\n",
    "    print(i)\n",
    "     "
   ]
  },
  {
   "cell_type": "markdown",
   "id": "77a068c4",
   "metadata": {},
   "source": [
    "From the above output we can conclude that they all do the same thing. The range(10) call ranges from 0 up to (but not including) 10, range(0, 10) tells the loop to start at 0, and range(0, 10, 1) tells the loop to increase the variable by 1 on each iteration.\n",
    "\n"
   ]
  },
  {
   "cell_type": "markdown",
   "id": "22e23a7d",
   "metadata": {},
   "source": [
    "12. Write a short program that prints the numbers 1 to 10 using a for loop. Then write an equivalent program that prints the numbers 1 to 10 using a while loop."
   ]
  },
  {
   "cell_type": "code",
   "execution_count": 22,
   "id": "c84f3be3",
   "metadata": {},
   "outputs": [
    {
     "name": "stdout",
     "output_type": "stream",
     "text": [
      "For loop\n",
      "1\n",
      "2\n",
      "3\n",
      "4\n",
      "5\n",
      "6\n",
      "7\n",
      "8\n",
      "9\n",
      "10\n",
      "----------------------------------------------------------------------------------------\n",
      "While loop\n",
      "1\n",
      "2\n",
      "3\n",
      "4\n",
      "5\n",
      "6\n",
      "7\n",
      "8\n",
      "9\n",
      "10\n"
     ]
    }
   ],
   "source": [
    "# For loop\n",
    "print(\"For loop\")\n",
    "for i in range(1,11):\n",
    "    print(i)\n",
    "    \n",
    "print(\"----------------------------------------------------------------------------------------\")\n",
    "\n",
    "# while loop\n",
    "print(\"While loop\")\n",
    "a=1\n",
    "while(a<=10):\n",
    "    print(a)\n",
    "    a+=1"
   ]
  },
  {
   "cell_type": "markdown",
   "id": "450da725",
   "metadata": {},
   "source": [
    "13. If you had a function named bacon() inside a module named spam, how would you call it after importing spam?\n",
    "ANS: spam.bacon()"
   ]
  }
 ],
 "metadata": {
  "kernelspec": {
   "display_name": "Python 3 (ipykernel)",
   "language": "python",
   "name": "python3"
  },
  "language_info": {
   "codemirror_mode": {
    "name": "ipython",
    "version": 3
   },
   "file_extension": ".py",
   "mimetype": "text/x-python",
   "name": "python",
   "nbconvert_exporter": "python",
   "pygments_lexer": "ipython3",
   "version": "3.9.7"
  }
 },
 "nbformat": 4,
 "nbformat_minor": 5
}
