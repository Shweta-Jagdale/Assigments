{
 "cells": [
  {
   "cell_type": "markdown",
   "id": "81dfe6db",
   "metadata": {},
   "source": [
    "1.How many seconds are in an hour? Use the interactive interpreter as a calculator and multiply the number of seconds in a minute (60) by the number of minutes in an hour (also 60).\n",
    "sol. 60 \n",
    "ANS:"
   ]
  },
  {
   "cell_type": "code",
   "execution_count": 1,
   "id": "8b41726a",
   "metadata": {},
   "outputs": [
    {
     "data": {
      "text/plain": [
       "3600"
      ]
     },
     "execution_count": 1,
     "metadata": {},
     "output_type": "execute_result"
    }
   ],
   "source": [
    "60*60"
   ]
  },
  {
   "cell_type": "markdown",
   "id": "e19d6ed1",
   "metadata": {},
   "source": [
    "2. Assign the result from the previous task (seconds in an hour) to a variable called seconds_per_hour.\n",
    "ANS:"
   ]
  },
  {
   "cell_type": "code",
   "execution_count": 2,
   "id": "4ce59164",
   "metadata": {},
   "outputs": [
    {
     "data": {
      "text/plain": [
       "3600"
      ]
     },
     "execution_count": 2,
     "metadata": {},
     "output_type": "execute_result"
    }
   ],
   "source": [
    "seconds_per_hour = 60 * 60\n",
    "seconds_per_hour\n",
    "     "
   ]
  },
  {
   "cell_type": "markdown",
   "id": "13f96014",
   "metadata": {},
   "source": [
    "3. How many seconds do you think there are in a day? Make use of the variables seconds per hour and minutes per hour.\n"
   ]
  },
  {
   "cell_type": "code",
   "execution_count": 4,
   "id": "a732c203",
   "metadata": {},
   "outputs": [
    {
     "data": {
      "text/plain": [
       "86400"
      ]
     },
     "execution_count": 4,
     "metadata": {},
     "output_type": "execute_result"
    }
   ],
   "source": [
    "day=24\n",
    "seconds_in_day=seconds_per_hour*day\n",
    "seconds_in_day"
   ]
  },
  {
   "cell_type": "markdown",
   "id": "3ae00615",
   "metadata": {},
   "source": [
    "4. Calculate seconds per day again, but this time save the result in a variable called seconds_per_day\n",
    "\n"
   ]
  },
  {
   "cell_type": "code",
   "execution_count": 6,
   "id": "14384c61",
   "metadata": {},
   "outputs": [
    {
     "data": {
      "text/plain": [
       "86400"
      ]
     },
     "execution_count": 6,
     "metadata": {},
     "output_type": "execute_result"
    }
   ],
   "source": [
    "seconds_per_day=24*seconds_per_hour\n",
    "seconds_per_day"
   ]
  },
  {
   "cell_type": "markdown",
   "id": "e60f7025",
   "metadata": {},
   "source": [
    "5. Divide seconds_per_day by seconds_per_hour. Use floating-point (/) division.\n"
   ]
  },
  {
   "cell_type": "code",
   "execution_count": 7,
   "id": "094f65ad",
   "metadata": {},
   "outputs": [
    {
     "data": {
      "text/plain": [
       "24.0"
      ]
     },
     "execution_count": 7,
     "metadata": {},
     "output_type": "execute_result"
    }
   ],
   "source": [
    "seconds_per_day/seconds_per_hour"
   ]
  },
  {
   "cell_type": "markdown",
   "id": "49026dd6",
   "metadata": {},
   "source": [
    "6. Divide seconds_per_day by seconds_per_hour, using integer (//) division. Did this number agree with the floating-point value from the previous question, aside from the final .0?\n"
   ]
  },
  {
   "cell_type": "code",
   "execution_count": 8,
   "id": "bd408e32",
   "metadata": {},
   "outputs": [
    {
     "data": {
      "text/plain": [
       "24"
      ]
     },
     "execution_count": 8,
     "metadata": {},
     "output_type": "execute_result"
    }
   ],
   "source": [
    "seconds_per_day//seconds_per_hour\n",
    "\n",
    "#yes it agree"
   ]
  },
  {
   "cell_type": "markdown",
   "id": "1e45f6ed",
   "metadata": {},
   "source": [
    "7. Write a generator, genPrimes, that returns the sequence of prime numbers on successive calls to its next() method: 2, 3, 5, 7, 11, ...\n"
   ]
  },
  {
   "cell_type": "code",
   "execution_count": 12,
   "id": "08b1cbf1",
   "metadata": {},
   "outputs": [],
   "source": [
    "def genPrime():\n",
    "    n=2\n",
    "    prime_numbers=[]\n",
    "    while True:\n",
    "        for p in prime_numbers:\n",
    "            if i%p==0:\n",
    "                break\n",
    "        else:\n",
    "            apppend.prime_numbers(n)\n",
    "            yield n\n",
    "            n +=1\n",
    "            \n"
   ]
  },
  {
   "cell_type": "code",
   "execution_count": null,
   "id": "99565dff",
   "metadata": {},
   "outputs": [],
   "source": []
  }
 ],
 "metadata": {
  "kernelspec": {
   "display_name": "Python 3 (ipykernel)",
   "language": "python",
   "name": "python3"
  },
  "language_info": {
   "codemirror_mode": {
    "name": "ipython",
    "version": 3
   },
   "file_extension": ".py",
   "mimetype": "text/x-python",
   "name": "python",
   "nbconvert_exporter": "python",
   "pygments_lexer": "ipython3",
   "version": "3.9.7"
  }
 },
 "nbformat": 4,
 "nbformat_minor": 5
}
